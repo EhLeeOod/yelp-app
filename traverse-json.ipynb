{
 "cells": [
  {
   "cell_type": "code",
   "execution_count": 2,
   "id": "991c0a70-bdfe-486c-9038-8b7841506690",
   "metadata": {},
   "outputs": [
    {
     "data": {
      "text/plain": [
       "dict"
      ]
     },
     "execution_count": 2,
     "metadata": {},
     "output_type": "execute_result"
    }
   ],
   "source": [
    "# Open the jsonfile and display the first level of keys\n",
    "# open API results WITH json module\n",
    "import json\n",
    "with open('Data/example_yelp_results.json') as f:   #adjust for your path\n",
    "    json_file = json.load(f)\n",
    "    \n",
    "## What type is top-level of json?\n",
    "type(json_file)"
   ]
  },
  {
   "cell_type": "code",
   "execution_count": 3,
   "id": "83ad5b6b-f707-49f5-8708-ecace4c0cb51",
   "metadata": {},
   "outputs": [
    {
     "data": {
      "text/plain": [
       "dict_keys(['businesses', 'total', 'region'])"
      ]
     },
     "execution_count": 3,
     "metadata": {},
     "output_type": "execute_result"
    }
   ],
   "source": [
    "# what are the keys?\n",
    "\n",
    "json_file.keys()"
   ]
  },
  {
   "cell_type": "code",
   "execution_count": 4,
   "id": "bbe436b4-4e0f-470e-8812-7395d2bb2d90",
   "metadata": {},
   "outputs": [
    {
     "data": {
      "text/plain": [
       "list"
      ]
     },
     "execution_count": 4,
     "metadata": {},
     "output_type": "execute_result"
    }
   ],
   "source": [
    "# what type is businesses?\n",
    "type(json_file['businesses'])"
   ]
  },
  {
   "cell_type": "code",
   "execution_count": 14,
   "id": "7c7c2628-4965-4671-b94a-327832762bba",
   "metadata": {},
   "outputs": [
    {
     "data": {
      "text/plain": [
       "20"
      ]
     },
     "execution_count": 14,
     "metadata": {},
     "output_type": "execute_result"
    }
   ],
   "source": [
    "len(json_file['businesses'])"
   ]
  },
  {
   "cell_type": "code",
   "execution_count": 15,
   "id": "b4126855-747b-4897-9e82-87a0af0af2ce",
   "metadata": {},
   "outputs": [
    {
     "data": {
      "text/plain": [
       "{'id': 'D9A33FM394q99o4QtK5YwA',\n",
       " 'alias': 'faidleys-seafood-baltimore-3',\n",
       " 'name': 'Faidleys Seafood',\n",
       " 'image_url': 'https://s3-media3.fl.yelpcdn.com/bphoto/OTjVDCVS7pGopH6GZcfjBA/o.jpg',\n",
       " 'is_closed': False,\n",
       " 'url': 'https://www.yelp.com/biz/faidleys-seafood-baltimore-3?adjust_creative=KJtcufKUS887p24u6rjVIQ&utm_campaign=yelp_api_v3&utm_medium=api_v3_business_search&utm_source=KJtcufKUS887p24u6rjVIQ',\n",
       " 'review_count': 1184,\n",
       " 'categories': [{'alias': 'seafood', 'title': 'Seafood'},\n",
       "  {'alias': 'beerbar', 'title': 'Beer Bar'}],\n",
       " 'rating': 4.0,\n",
       " 'coordinates': {'latitude': 39.291696, 'longitude': -76.62224},\n",
       " 'transactions': ['delivery'],\n",
       " 'price': '$$',\n",
       " 'location': {'address1': '203 N Paca St',\n",
       "  'address2': '',\n",
       "  'address3': '',\n",
       "  'city': 'Baltimore',\n",
       "  'zip_code': '21201',\n",
       "  'country': 'US',\n",
       "  'state': 'MD',\n",
       "  'display_address': ['203 N Paca St', 'Baltimore, MD 21201']},\n",
       " 'phone': '+14107274898',\n",
       " 'display_phone': '(410) 727-4898',\n",
       " 'distance': 1349.560720156645}"
      ]
     },
     "execution_count": 15,
     "metadata": {},
     "output_type": "execute_result"
    }
   ],
   "source": [
    "json_file['businesses'][0]"
   ]
  },
  {
   "cell_type": "code",
   "execution_count": 19,
   "id": "9a556bfc-f95f-4fcb-af9d-e0cd6fddd85a",
   "metadata": {},
   "outputs": [
    {
     "data": {
      "text/plain": [
       "True"
      ]
     },
     "execution_count": 19,
     "metadata": {},
     "output_type": "execute_result"
    }
   ],
   "source": [
    "json_file['businesses'][0].keys() == json_file['businesses'][1].keys()"
   ]
  },
  {
   "cell_type": "code",
   "execution_count": 20,
   "id": "549ecc09-9f97-4b19-a72b-cf8f945f945c",
   "metadata": {},
   "outputs": [
    {
     "data": {
      "text/html": [
       "<div>\n",
       "<style scoped>\n",
       "    .dataframe tbody tr th:only-of-type {\n",
       "        vertical-align: middle;\n",
       "    }\n",
       "\n",
       "    .dataframe tbody tr th {\n",
       "        vertical-align: top;\n",
       "    }\n",
       "\n",
       "    .dataframe thead th {\n",
       "        text-align: right;\n",
       "    }\n",
       "</style>\n",
       "<table border=\"1\" class=\"dataframe\">\n",
       "  <thead>\n",
       "    <tr style=\"text-align: right;\">\n",
       "      <th></th>\n",
       "      <th>id</th>\n",
       "      <th>alias</th>\n",
       "      <th>name</th>\n",
       "      <th>image_url</th>\n",
       "      <th>is_closed</th>\n",
       "      <th>url</th>\n",
       "      <th>review_count</th>\n",
       "      <th>categories</th>\n",
       "      <th>rating</th>\n",
       "      <th>coordinates</th>\n",
       "      <th>transactions</th>\n",
       "      <th>price</th>\n",
       "      <th>location</th>\n",
       "      <th>phone</th>\n",
       "      <th>display_phone</th>\n",
       "      <th>distance</th>\n",
       "    </tr>\n",
       "  </thead>\n",
       "  <tbody>\n",
       "    <tr>\n",
       "      <th>0</th>\n",
       "      <td>D9A33FM394q99o4QtK5YwA</td>\n",
       "      <td>faidleys-seafood-baltimore-3</td>\n",
       "      <td>Faidleys Seafood</td>\n",
       "      <td>https://s3-media3.fl.yelpcdn.com/bphoto/OTjVDC...</td>\n",
       "      <td>False</td>\n",
       "      <td>https://www.yelp.com/biz/faidleys-seafood-balt...</td>\n",
       "      <td>1184</td>\n",
       "      <td>[{'alias': 'seafood', 'title': 'Seafood'}, {'a...</td>\n",
       "      <td>4.0</td>\n",
       "      <td>{'latitude': 39.291696, 'longitude': -76.62224}</td>\n",
       "      <td>[delivery]</td>\n",
       "      <td>$$</td>\n",
       "      <td>{'address1': '203 N Paca St', 'address2': '', ...</td>\n",
       "      <td>+14107274898</td>\n",
       "      <td>(410) 727-4898</td>\n",
       "      <td>1349.560720</td>\n",
       "    </tr>\n",
       "    <tr>\n",
       "      <th>1</th>\n",
       "      <td>u65W69AhbjUlvJJBkEhGNQ</td>\n",
       "      <td>miss-shirleys-cafe-baltimore-9</td>\n",
       "      <td>Miss Shirley's Cafe</td>\n",
       "      <td>https://s3-media4.fl.yelpcdn.com/bphoto/9FsOyV...</td>\n",
       "      <td>False</td>\n",
       "      <td>https://www.yelp.com/biz/miss-shirleys-cafe-ba...</td>\n",
       "      <td>2919</td>\n",
       "      <td>[{'alias': 'breakfast_brunch', 'title': 'Break...</td>\n",
       "      <td>4.0</td>\n",
       "      <td>{'latitude': 39.2870995, 'longitude': -76.6053...</td>\n",
       "      <td>[delivery, pickup]</td>\n",
       "      <td>$$</td>\n",
       "      <td>{'address1': '750 E Pratt St', 'address2': '',...</td>\n",
       "      <td>+14105285373</td>\n",
       "      <td>(410) 528-5373</td>\n",
       "      <td>1028.736468</td>\n",
       "    </tr>\n",
       "    <tr>\n",
       "      <th>2</th>\n",
       "      <td>ieS_5zqxDHcWMCm8BKUYbg</td>\n",
       "      <td>thames-street-oyster-house-baltimore</td>\n",
       "      <td>Thames Street Oyster House</td>\n",
       "      <td>https://s3-media1.fl.yelpcdn.com/bphoto/9hGjo5...</td>\n",
       "      <td>False</td>\n",
       "      <td>https://www.yelp.com/biz/thames-street-oyster-...</td>\n",
       "      <td>2729</td>\n",
       "      <td>[{'alias': 'seafood', 'title': 'Seafood'}, {'a...</td>\n",
       "      <td>4.5</td>\n",
       "      <td>{'latitude': 39.28214, 'longitude': -76.59162}</td>\n",
       "      <td>[delivery]</td>\n",
       "      <td>$$$</td>\n",
       "      <td>{'address1': '1728 Thames St', 'address2': '',...</td>\n",
       "      <td>+14434497726</td>\n",
       "      <td>(443) 449-7726</td>\n",
       "      <td>2090.712792</td>\n",
       "    </tr>\n",
       "    <tr>\n",
       "      <th>3</th>\n",
       "      <td>6am8TZAFnvND52MOz-Yctg</td>\n",
       "      <td>mamas-on-the-half-shell-baltimore</td>\n",
       "      <td>Mama's On The Half Shell</td>\n",
       "      <td>https://s3-media2.fl.yelpcdn.com/bphoto/HWY8OF...</td>\n",
       "      <td>False</td>\n",
       "      <td>https://www.yelp.com/biz/mamas-on-the-half-she...</td>\n",
       "      <td>1279</td>\n",
       "      <td>[{'alias': 'bars', 'title': 'Bars'}, {'alias':...</td>\n",
       "      <td>4.0</td>\n",
       "      <td>{'latitude': 39.27986, 'longitude': -76.5752399}</td>\n",
       "      <td>[delivery, pickup]</td>\n",
       "      <td>$$</td>\n",
       "      <td>{'address1': '2901 Odonnell St', 'address2': '...</td>\n",
       "      <td>+14102763160</td>\n",
       "      <td>(410) 276-3160</td>\n",
       "      <td>3328.825798</td>\n",
       "    </tr>\n",
       "    <tr>\n",
       "      <th>4</th>\n",
       "      <td>ISn7WyGQaFpsVSRSh0NSqg</td>\n",
       "      <td>sal-and-sons-baltimore</td>\n",
       "      <td>Sal and Sons</td>\n",
       "      <td>https://s3-media3.fl.yelpcdn.com/bphoto/LmVL4j...</td>\n",
       "      <td>False</td>\n",
       "      <td>https://www.yelp.com/biz/sal-and-sons-baltimor...</td>\n",
       "      <td>153</td>\n",
       "      <td>[{'alias': 'seafood', 'title': 'Seafood'}, {'a...</td>\n",
       "      <td>4.5</td>\n",
       "      <td>{'latitude': 39.284, 'longitude': -76.59337}</td>\n",
       "      <td>[delivery]</td>\n",
       "      <td>$</td>\n",
       "      <td>{'address1': '1640 Aliceanna St', 'address2': ...</td>\n",
       "      <td>+14106751466</td>\n",
       "      <td>(410) 675-1466</td>\n",
       "      <td>1817.406978</td>\n",
       "    </tr>\n",
       "  </tbody>\n",
       "</table>\n",
       "</div>"
      ],
      "text/plain": [
       "                       id                                 alias  \\\n",
       "0  D9A33FM394q99o4QtK5YwA          faidleys-seafood-baltimore-3   \n",
       "1  u65W69AhbjUlvJJBkEhGNQ        miss-shirleys-cafe-baltimore-9   \n",
       "2  ieS_5zqxDHcWMCm8BKUYbg  thames-street-oyster-house-baltimore   \n",
       "3  6am8TZAFnvND52MOz-Yctg     mamas-on-the-half-shell-baltimore   \n",
       "4  ISn7WyGQaFpsVSRSh0NSqg                sal-and-sons-baltimore   \n",
       "\n",
       "                         name  \\\n",
       "0            Faidleys Seafood   \n",
       "1         Miss Shirley's Cafe   \n",
       "2  Thames Street Oyster House   \n",
       "3    Mama's On The Half Shell   \n",
       "4                Sal and Sons   \n",
       "\n",
       "                                           image_url  is_closed  \\\n",
       "0  https://s3-media3.fl.yelpcdn.com/bphoto/OTjVDC...      False   \n",
       "1  https://s3-media4.fl.yelpcdn.com/bphoto/9FsOyV...      False   \n",
       "2  https://s3-media1.fl.yelpcdn.com/bphoto/9hGjo5...      False   \n",
       "3  https://s3-media2.fl.yelpcdn.com/bphoto/HWY8OF...      False   \n",
       "4  https://s3-media3.fl.yelpcdn.com/bphoto/LmVL4j...      False   \n",
       "\n",
       "                                                 url  review_count  \\\n",
       "0  https://www.yelp.com/biz/faidleys-seafood-balt...          1184   \n",
       "1  https://www.yelp.com/biz/miss-shirleys-cafe-ba...          2919   \n",
       "2  https://www.yelp.com/biz/thames-street-oyster-...          2729   \n",
       "3  https://www.yelp.com/biz/mamas-on-the-half-she...          1279   \n",
       "4  https://www.yelp.com/biz/sal-and-sons-baltimor...           153   \n",
       "\n",
       "                                          categories  rating  \\\n",
       "0  [{'alias': 'seafood', 'title': 'Seafood'}, {'a...     4.0   \n",
       "1  [{'alias': 'breakfast_brunch', 'title': 'Break...     4.0   \n",
       "2  [{'alias': 'seafood', 'title': 'Seafood'}, {'a...     4.5   \n",
       "3  [{'alias': 'bars', 'title': 'Bars'}, {'alias':...     4.0   \n",
       "4  [{'alias': 'seafood', 'title': 'Seafood'}, {'a...     4.5   \n",
       "\n",
       "                                         coordinates        transactions  \\\n",
       "0    {'latitude': 39.291696, 'longitude': -76.62224}          [delivery]   \n",
       "1  {'latitude': 39.2870995, 'longitude': -76.6053...  [delivery, pickup]   \n",
       "2     {'latitude': 39.28214, 'longitude': -76.59162}          [delivery]   \n",
       "3   {'latitude': 39.27986, 'longitude': -76.5752399}  [delivery, pickup]   \n",
       "4       {'latitude': 39.284, 'longitude': -76.59337}          [delivery]   \n",
       "\n",
       "  price                                           location         phone  \\\n",
       "0    $$  {'address1': '203 N Paca St', 'address2': '', ...  +14107274898   \n",
       "1    $$  {'address1': '750 E Pratt St', 'address2': '',...  +14105285373   \n",
       "2   $$$  {'address1': '1728 Thames St', 'address2': '',...  +14434497726   \n",
       "3    $$  {'address1': '2901 Odonnell St', 'address2': '...  +14102763160   \n",
       "4     $  {'address1': '1640 Aliceanna St', 'address2': ...  +14106751466   \n",
       "\n",
       "    display_phone     distance  \n",
       "0  (410) 727-4898  1349.560720  \n",
       "1  (410) 528-5373  1028.736468  \n",
       "2  (443) 449-7726  2090.712792  \n",
       "3  (410) 276-3160  3328.825798  \n",
       "4  (410) 675-1466  1817.406978  "
      ]
     },
     "execution_count": 20,
     "metadata": {},
     "output_type": "execute_result"
    }
   ],
   "source": [
    "# turn 'businesses' records into df for easier navigation\n",
    "\n",
    "import pandas as pd\n",
    "df_businesses = pd.DataFrame(json_file['businesses'])\n",
    "df_businesses.head()"
   ]
  },
  {
   "cell_type": "code",
   "execution_count": 21,
   "id": "ae64136b-a487-452d-a452-7f2b640ff21b",
   "metadata": {},
   "outputs": [
    {
     "data": {
      "text/html": [
       "<div>\n",
       "<style scoped>\n",
       "    .dataframe tbody tr th:only-of-type {\n",
       "        vertical-align: middle;\n",
       "    }\n",
       "\n",
       "    .dataframe tbody tr th {\n",
       "        vertical-align: top;\n",
       "    }\n",
       "\n",
       "    .dataframe thead th {\n",
       "        text-align: right;\n",
       "    }\n",
       "</style>\n",
       "<table border=\"1\" class=\"dataframe\">\n",
       "  <thead>\n",
       "    <tr style=\"text-align: right;\">\n",
       "      <th></th>\n",
       "      <th>categories</th>\n",
       "      <th>coordinates</th>\n",
       "      <th>location</th>\n",
       "    </tr>\n",
       "  </thead>\n",
       "  <tbody>\n",
       "    <tr>\n",
       "      <th>0</th>\n",
       "      <td>[{'alias': 'seafood', 'title': 'Seafood'}, {'a...</td>\n",
       "      <td>{'latitude': 39.291696, 'longitude': -76.62224}</td>\n",
       "      <td>{'address1': '203 N Paca St', 'address2': '', ...</td>\n",
       "    </tr>\n",
       "    <tr>\n",
       "      <th>1</th>\n",
       "      <td>[{'alias': 'breakfast_brunch', 'title': 'Break...</td>\n",
       "      <td>{'latitude': 39.2870995, 'longitude': -76.6053...</td>\n",
       "      <td>{'address1': '750 E Pratt St', 'address2': '',...</td>\n",
       "    </tr>\n",
       "    <tr>\n",
       "      <th>2</th>\n",
       "      <td>[{'alias': 'seafood', 'title': 'Seafood'}, {'a...</td>\n",
       "      <td>{'latitude': 39.28214, 'longitude': -76.59162}</td>\n",
       "      <td>{'address1': '1728 Thames St', 'address2': '',...</td>\n",
       "    </tr>\n",
       "  </tbody>\n",
       "</table>\n",
       "</div>"
      ],
      "text/plain": [
       "                                          categories  \\\n",
       "0  [{'alias': 'seafood', 'title': 'Seafood'}, {'a...   \n",
       "1  [{'alias': 'breakfast_brunch', 'title': 'Break...   \n",
       "2  [{'alias': 'seafood', 'title': 'Seafood'}, {'a...   \n",
       "\n",
       "                                         coordinates  \\\n",
       "0    {'latitude': 39.291696, 'longitude': -76.62224}   \n",
       "1  {'latitude': 39.2870995, 'longitude': -76.6053...   \n",
       "2     {'latitude': 39.28214, 'longitude': -76.59162}   \n",
       "\n",
       "                                            location  \n",
       "0  {'address1': '203 N Paca St', 'address2': '', ...  \n",
       "1  {'address1': '750 E Pratt St', 'address2': '',...  \n",
       "2  {'address1': '1728 Thames St', 'address2': '',...  "
      ]
     },
     "execution_count": 21,
     "metadata": {},
     "output_type": "execute_result"
    }
   ],
   "source": [
    "df_businesses[['categories','coordinates','location']].head(3)"
   ]
  },
  {
   "cell_type": "code",
   "execution_count": 5,
   "id": "cd71f859-8fbe-42a8-a910-0c82de3de0b0",
   "metadata": {},
   "outputs": [
    {
     "data": {
      "text/plain": [
       "int"
      ]
     },
     "execution_count": 5,
     "metadata": {},
     "output_type": "execute_result"
    }
   ],
   "source": [
    "# what type is total?\n",
    "type(json_file['total'])"
   ]
  },
  {
   "cell_type": "code",
   "execution_count": 11,
   "id": "ea236a61-2b2f-40fe-b961-d4ca66c9011a",
   "metadata": {},
   "outputs": [
    {
     "data": {
      "text/plain": [
       "435"
      ]
     },
     "execution_count": 11,
     "metadata": {},
     "output_type": "execute_result"
    }
   ],
   "source": [
    "json_file['total']"
   ]
  },
  {
   "cell_type": "code",
   "execution_count": 6,
   "id": "17a93be3-ad63-47fa-8af2-e56d5907795c",
   "metadata": {},
   "outputs": [
    {
     "data": {
      "text/plain": [
       "dict"
      ]
     },
     "execution_count": 6,
     "metadata": {},
     "output_type": "execute_result"
    }
   ],
   "source": [
    "# what type is region?\n",
    "type(json_file['region'])"
   ]
  },
  {
   "cell_type": "code",
   "execution_count": 8,
   "id": "f369cfb8-2705-432a-b231-6cb98e0fee42",
   "metadata": {},
   "outputs": [
    {
     "data": {
      "text/plain": [
       "dict"
      ]
     },
     "execution_count": 8,
     "metadata": {},
     "output_type": "execute_result"
    }
   ],
   "source": [
    "# what type is center?\n",
    "type(json_file['region']['center'])"
   ]
  },
  {
   "cell_type": "code",
   "execution_count": 10,
   "id": "e0b17f88-d63a-4855-a2e1-eb5b93b6b4ac",
   "metadata": {},
   "outputs": [
    {
     "data": {
      "text/plain": [
       "{'longitude': -76.607666015625, 'latitude': 39.29617825404647}"
      ]
     },
     "execution_count": 10,
     "metadata": {},
     "output_type": "execute_result"
    }
   ],
   "source": [
    "json_file['region']['center']"
   ]
  },
  {
   "cell_type": "code",
   "execution_count": 27,
   "id": "4cc26d7f-7e28-4908-baff-a3bb14307bab",
   "metadata": {},
   "outputs": [
    {
     "data": {
      "text/plain": [
       "dict_keys(['client-id', 'api-key'])"
      ]
     },
     "execution_count": 27,
     "metadata": {},
     "output_type": "execute_result"
    }
   ],
   "source": [
    "with open('.secret/yelp_api.json') as f:\n",
    "    login = json.load(f)\n",
    "login.keys()"
   ]
  },
  {
   "cell_type": "code",
   "execution_count": 29,
   "id": "decaf096-d978-4be9-ae95-2f17037a4d34",
   "metadata": {},
   "outputs": [
    {
     "data": {
      "text/plain": [
       "<yelpapi.yelpapi.YelpAPI at 0x2f358eabc40>"
      ]
     },
     "execution_count": 29,
     "metadata": {},
     "output_type": "execute_result"
    }
   ],
   "source": [
    "# import the YelpAPI Class\n",
    "from yelpapi import YelpAPI\n",
    "# Create an instance with your key\n",
    "yelp_api = YelpAPI(login['api-key'], timeout_s=5.0)\n",
    "yelp_api"
   ]
  },
  {
   "cell_type": "code",
   "execution_count": 30,
   "id": "bbb7ebbb-20fb-42f3-936c-0f59a2838298",
   "metadata": {},
   "outputs": [
    {
     "name": "stdout",
     "output_type": "stream",
     "text": [
      "Help on method search_query in module yelpapi.yelpapi:\n",
      "\n",
      "search_query(**kwargs) method of yelpapi.yelpapi.YelpAPI instance\n",
      "    Query the Yelp Search API.\n",
      "    \n",
      "    documentation: https://www.yelp.com/developers/documentation/v3/business_search\n",
      "    \n",
      "    required parameters:\n",
      "        * one of either:\n",
      "            * location - text specifying a location to search for\n",
      "            * latitude and longitude\n",
      "\n"
     ]
    }
   ],
   "source": [
    "help(yelp_api.search_query)"
   ]
  },
  {
   "cell_type": "code",
   "execution_count": 31,
   "id": "ee3d16de-3ba9-42fd-993c-f4459518516f",
   "metadata": {},
   "outputs": [
    {
     "name": "stdout",
     "output_type": "stream",
     "text": [
      "<class 'dict'>\n"
     ]
    },
    {
     "data": {
      "text/plain": [
       "dict_keys(['businesses', 'total', 'region'])"
      ]
     },
     "execution_count": 31,
     "metadata": {},
     "output_type": "execute_result"
    }
   ],
   "source": [
    "search_results = yelp_api.search_query(location='NY, NY',\n",
    "                                       term='Pizza')\n",
    "print(type(search_results))\n",
    "\n",
    "search_results.keys()"
   ]
  },
  {
   "cell_type": "code",
   "execution_count": 32,
   "id": "f58af3ea-7bac-4f22-87c9-334497438741",
   "metadata": {},
   "outputs": [
    {
     "data": {
      "text/plain": [
       "11800"
      ]
     },
     "execution_count": 32,
     "metadata": {},
     "output_type": "execute_result"
    }
   ],
   "source": [
    "search_results['total']"
   ]
  },
  {
   "cell_type": "code",
   "execution_count": 34,
   "id": "ec3e3f9e-04dd-4e2c-a4ff-4da9acc0308e",
   "metadata": {},
   "outputs": [
    {
     "data": {
      "text/html": [
       "<div>\n",
       "<style scoped>\n",
       "    .dataframe tbody tr th:only-of-type {\n",
       "        vertical-align: middle;\n",
       "    }\n",
       "\n",
       "    .dataframe tbody tr th {\n",
       "        vertical-align: top;\n",
       "    }\n",
       "\n",
       "    .dataframe thead th {\n",
       "        text-align: right;\n",
       "    }\n",
       "</style>\n",
       "<table border=\"1\" class=\"dataframe\">\n",
       "  <thead>\n",
       "    <tr style=\"text-align: right;\">\n",
       "      <th></th>\n",
       "      <th>id</th>\n",
       "      <th>alias</th>\n",
       "      <th>name</th>\n",
       "      <th>image_url</th>\n",
       "      <th>is_closed</th>\n",
       "      <th>url</th>\n",
       "      <th>review_count</th>\n",
       "      <th>categories</th>\n",
       "      <th>rating</th>\n",
       "      <th>coordinates</th>\n",
       "      <th>transactions</th>\n",
       "      <th>price</th>\n",
       "      <th>location</th>\n",
       "      <th>phone</th>\n",
       "      <th>display_phone</th>\n",
       "      <th>distance</th>\n",
       "    </tr>\n",
       "  </thead>\n",
       "  <tbody>\n",
       "    <tr>\n",
       "      <th>0</th>\n",
       "      <td>ysqgdbSrezXgVwER2kQWKA</td>\n",
       "      <td>julianas-brooklyn-3</td>\n",
       "      <td>Juliana's</td>\n",
       "      <td>https://s3-media2.fl.yelpcdn.com/bphoto/od36nF...</td>\n",
       "      <td>False</td>\n",
       "      <td>https://www.yelp.com/biz/julianas-brooklyn-3?a...</td>\n",
       "      <td>2697</td>\n",
       "      <td>[{'alias': 'pizza', 'title': 'Pizza'}]</td>\n",
       "      <td>4.5</td>\n",
       "      <td>{'latitude': 40.70274718768062, 'longitude': -...</td>\n",
       "      <td>[delivery]</td>\n",
       "      <td>$$</td>\n",
       "      <td>{'address1': '19 Old Fulton St', 'address2': '...</td>\n",
       "      <td>+17185966700</td>\n",
       "      <td>(718) 596-6700</td>\n",
       "      <td>308.569844</td>\n",
       "    </tr>\n",
       "    <tr>\n",
       "      <th>1</th>\n",
       "      <td>zj8Lq1T8KIC5zwFief15jg</td>\n",
       "      <td>prince-street-pizza-new-york-2</td>\n",
       "      <td>Prince Street Pizza</td>\n",
       "      <td>https://s3-media4.fl.yelpcdn.com/bphoto/PfI8oV...</td>\n",
       "      <td>False</td>\n",
       "      <td>https://www.yelp.com/biz/prince-street-pizza-n...</td>\n",
       "      <td>5041</td>\n",
       "      <td>[{'alias': 'pizza', 'title': 'Pizza'}, {'alias...</td>\n",
       "      <td>4.5</td>\n",
       "      <td>{'latitude': 40.72308755605564, 'longitude': -...</td>\n",
       "      <td>[delivery, pickup]</td>\n",
       "      <td>$</td>\n",
       "      <td>{'address1': '27 Prince St', 'address2': None,...</td>\n",
       "      <td>+12129664100</td>\n",
       "      <td>(212) 966-4100</td>\n",
       "      <td>1961.877142</td>\n",
       "    </tr>\n",
       "    <tr>\n",
       "      <th>2</th>\n",
       "      <td>WG639VkTjmK5dzydd1BBJA</td>\n",
       "      <td>rubirosa-new-york-2</td>\n",
       "      <td>Rubirosa</td>\n",
       "      <td>https://s3-media3.fl.yelpcdn.com/bphoto/l0Phrn...</td>\n",
       "      <td>False</td>\n",
       "      <td>https://www.yelp.com/biz/rubirosa-new-york-2?a...</td>\n",
       "      <td>3163</td>\n",
       "      <td>[{'alias': 'italian', 'title': 'Italian'}, {'a...</td>\n",
       "      <td>4.5</td>\n",
       "      <td>{'latitude': 40.722766, 'longitude': -73.996233}</td>\n",
       "      <td>[pickup]</td>\n",
       "      <td>$$</td>\n",
       "      <td>{'address1': '235 Mulberry St', 'address2': ''...</td>\n",
       "      <td>+12129650500</td>\n",
       "      <td>(212) 965-0500</td>\n",
       "      <td>1932.946770</td>\n",
       "    </tr>\n",
       "    <tr>\n",
       "      <th>3</th>\n",
       "      <td>v1DHGRNCH9247WLYoaoA9A</td>\n",
       "      <td>l-industrie-pizzeria-brooklyn</td>\n",
       "      <td>L'industrie Pizzeria</td>\n",
       "      <td>https://s3-media3.fl.yelpcdn.com/bphoto/KKB2Tr...</td>\n",
       "      <td>False</td>\n",
       "      <td>https://www.yelp.com/biz/l-industrie-pizzeria-...</td>\n",
       "      <td>1101</td>\n",
       "      <td>[{'alias': 'pizza', 'title': 'Pizza'}]</td>\n",
       "      <td>4.5</td>\n",
       "      <td>{'latitude': 40.71162, 'longitude': -73.95783}</td>\n",
       "      <td>[delivery]</td>\n",
       "      <td>$</td>\n",
       "      <td>{'address1': '254 S 2nd St', 'address2': '', '...</td>\n",
       "      <td>+17185990002</td>\n",
       "      <td>(718) 599-0002</td>\n",
       "      <td>3145.016041</td>\n",
       "    </tr>\n",
       "    <tr>\n",
       "      <th>4</th>\n",
       "      <td>WIhm0W9197f_rRtDziq5qQ</td>\n",
       "      <td>lombardis-pizza-new-york-4</td>\n",
       "      <td>Lombardi's Pizza</td>\n",
       "      <td>https://s3-media1.fl.yelpcdn.com/bphoto/lBq1IB...</td>\n",
       "      <td>False</td>\n",
       "      <td>https://www.yelp.com/biz/lombardis-pizza-new-y...</td>\n",
       "      <td>6609</td>\n",
       "      <td>[{'alias': 'pizza', 'title': 'Pizza'}]</td>\n",
       "      <td>4.0</td>\n",
       "      <td>{'latitude': 40.7215934960083, 'longitude': -7...</td>\n",
       "      <td>[delivery, pickup]</td>\n",
       "      <td>$$</td>\n",
       "      <td>{'address1': '32 Spring St', 'address2': '', '...</td>\n",
       "      <td>+12129417994</td>\n",
       "      <td>(212) 941-7994</td>\n",
       "      <td>1798.995978</td>\n",
       "    </tr>\n",
       "    <tr>\n",
       "      <th>5</th>\n",
       "      <td>2ggi1luerd3Mf_C82JvCYg</td>\n",
       "      <td>grimaldis-pizzeria-brooklyn-4</td>\n",
       "      <td>Grimaldi's Pizzeria</td>\n",
       "      <td>https://s3-media1.fl.yelpcdn.com/bphoto/Ek1cwe...</td>\n",
       "      <td>False</td>\n",
       "      <td>https://www.yelp.com/biz/grimaldis-pizzeria-br...</td>\n",
       "      <td>4963</td>\n",
       "      <td>[{'alias': 'pizza', 'title': 'Pizza'}, {'alias...</td>\n",
       "      <td>3.5</td>\n",
       "      <td>{'latitude': 40.7026459, 'longitude': -73.9932...</td>\n",
       "      <td>[delivery, pickup]</td>\n",
       "      <td>$$</td>\n",
       "      <td>{'address1': '1 Front St', 'address2': '', 'ad...</td>\n",
       "      <td>+17188584300</td>\n",
       "      <td>(718) 858-4300</td>\n",
       "      <td>323.615413</td>\n",
       "    </tr>\n",
       "    <tr>\n",
       "      <th>6</th>\n",
       "      <td>uc5qQMzs96rzjK27epDCug</td>\n",
       "      <td>joes-pizza-new-york-4</td>\n",
       "      <td>Joe's Pizza</td>\n",
       "      <td>https://s3-media3.fl.yelpcdn.com/bphoto/FKjd9R...</td>\n",
       "      <td>False</td>\n",
       "      <td>https://www.yelp.com/biz/joes-pizza-new-york-4...</td>\n",
       "      <td>3063</td>\n",
       "      <td>[{'alias': 'pizza', 'title': 'Pizza'}]</td>\n",
       "      <td>4.0</td>\n",
       "      <td>{'latitude': 40.73060076, 'longitude': -74.002...</td>\n",
       "      <td>[delivery]</td>\n",
       "      <td>$</td>\n",
       "      <td>{'address1': '7 Carmine St', 'address2': '', '...</td>\n",
       "      <td>+12123661182</td>\n",
       "      <td>(212) 366-1182</td>\n",
       "      <td>2874.702514</td>\n",
       "    </tr>\n",
       "    <tr>\n",
       "      <th>7</th>\n",
       "      <td>hZBxJfZtDjnMzH_jNFNHRQ</td>\n",
       "      <td>little-pizza-parlor-brooklyn</td>\n",
       "      <td>Little Pizza Parlor</td>\n",
       "      <td>https://s3-media2.fl.yelpcdn.com/bphoto/99YkIi...</td>\n",
       "      <td>False</td>\n",
       "      <td>https://www.yelp.com/biz/little-pizza-parlor-b...</td>\n",
       "      <td>54</td>\n",
       "      <td>[{'alias': 'pizza', 'title': 'Pizza'}]</td>\n",
       "      <td>4.5</td>\n",
       "      <td>{'latitude': 40.692425, 'longitude': -73.984467}</td>\n",
       "      <td>[delivery, pickup]</td>\n",
       "      <td>NaN</td>\n",
       "      <td>{'address1': '192 Duffield St', 'address2': No...</td>\n",
       "      <td>+13477991249</td>\n",
       "      <td>(347) 799-1249</td>\n",
       "      <td>1668.414104</td>\n",
       "    </tr>\n",
       "    <tr>\n",
       "      <th>8</th>\n",
       "      <td>0UdC0VYX6aAvLiOcpR4MVQ</td>\n",
       "      <td>joes-pizza-new-york-7</td>\n",
       "      <td>Joe's Pizza</td>\n",
       "      <td>https://s3-media2.fl.yelpcdn.com/bphoto/QXu6RG...</td>\n",
       "      <td>False</td>\n",
       "      <td>https://www.yelp.com/biz/joes-pizza-new-york-7...</td>\n",
       "      <td>1069</td>\n",
       "      <td>[{'alias': 'pizza', 'title': 'Pizza'}]</td>\n",
       "      <td>4.0</td>\n",
       "      <td>{'latitude': 40.73331, 'longitude': -73.98763}</td>\n",
       "      <td>[delivery, pickup]</td>\n",
       "      <td>$</td>\n",
       "      <td>{'address1': '150 E 14th St', 'address2': '', ...</td>\n",
       "      <td>+12123889474</td>\n",
       "      <td>(212) 388-9474</td>\n",
       "      <td>3140.263109</td>\n",
       "    </tr>\n",
       "    <tr>\n",
       "      <th>9</th>\n",
       "      <td>Q9F2ocrmYuGt1yn3M7MOBw</td>\n",
       "      <td>lucali-brooklyn-3</td>\n",
       "      <td>Lucali</td>\n",
       "      <td>https://s3-media1.fl.yelpcdn.com/bphoto/rMlNCZ...</td>\n",
       "      <td>False</td>\n",
       "      <td>https://www.yelp.com/biz/lucali-brooklyn-3?adj...</td>\n",
       "      <td>1995</td>\n",
       "      <td>[{'alias': 'pizza', 'title': 'Pizza'}]</td>\n",
       "      <td>4.0</td>\n",
       "      <td>{'latitude': 40.681840746711224, 'longitude': ...</td>\n",
       "      <td>[delivery]</td>\n",
       "      <td>$$</td>\n",
       "      <td>{'address1': '575 Henry St', 'address2': None,...</td>\n",
       "      <td>+17188584086</td>\n",
       "      <td>(718) 858-4086</td>\n",
       "      <td>2673.589406</td>\n",
       "    </tr>\n",
       "    <tr>\n",
       "      <th>10</th>\n",
       "      <td>6mYQzAdPxa4S1ZtvjST1eg</td>\n",
       "      <td>julianas-time-out-market-brooklyn</td>\n",
       "      <td>Juliana's - Time Out Market</td>\n",
       "      <td>https://s3-media3.fl.yelpcdn.com/bphoto/kqM6U4...</td>\n",
       "      <td>False</td>\n",
       "      <td>https://www.yelp.com/biz/julianas-time-out-mar...</td>\n",
       "      <td>4</td>\n",
       "      <td>[{'alias': 'pizza', 'title': 'Pizza'}]</td>\n",
       "      <td>4.5</td>\n",
       "      <td>{'latitude': 40.703447, 'longitude': -73.99215}</td>\n",
       "      <td>[]</td>\n",
       "      <td>NaN</td>\n",
       "      <td>{'address1': '55 Water St', 'address2': '', 'a...</td>\n",
       "      <td></td>\n",
       "      <td></td>\n",
       "      <td>286.339586</td>\n",
       "    </tr>\n",
       "    <tr>\n",
       "      <th>11</th>\n",
       "      <td>16ZnHpuaaBt92XWeJHCC5A</td>\n",
       "      <td>olio-e-più-new-york-7</td>\n",
       "      <td>Olio e Più</td>\n",
       "      <td>https://s3-media4.fl.yelpcdn.com/bphoto/CUpPgz...</td>\n",
       "      <td>False</td>\n",
       "      <td>https://www.yelp.com/biz/olio-e-pi%C3%B9-new-y...</td>\n",
       "      <td>4865</td>\n",
       "      <td>[{'alias': 'pizza', 'title': 'Pizza'}, {'alias...</td>\n",
       "      <td>4.5</td>\n",
       "      <td>{'latitude': 40.733798036104304, 'longitude': ...</td>\n",
       "      <td>[delivery, pickup]</td>\n",
       "      <td>$$</td>\n",
       "      <td>{'address1': '3 Greenwich Ave', 'address2': No...</td>\n",
       "      <td>+12122436546</td>\n",
       "      <td>(212) 243-6546</td>\n",
       "      <td>3186.380498</td>\n",
       "    </tr>\n",
       "    <tr>\n",
       "      <th>12</th>\n",
       "      <td>Ovniqgc47wZIEj-0rrEf3w</td>\n",
       "      <td>macoletta-new-york-2</td>\n",
       "      <td>Macoletta</td>\n",
       "      <td>https://s3-media3.fl.yelpcdn.com/bphoto/c3GlZp...</td>\n",
       "      <td>False</td>\n",
       "      <td>https://www.yelp.com/biz/macoletta-new-york-2?...</td>\n",
       "      <td>23</td>\n",
       "      <td>[{'alias': 'pizza', 'title': 'Pizza'}]</td>\n",
       "      <td>5.0</td>\n",
       "      <td>{'latitude': 40.7210325, 'longitude': -73.9601...</td>\n",
       "      <td>[delivery, pickup]</td>\n",
       "      <td>NaN</td>\n",
       "      <td>{'address1': '58 N 9th St', 'address2': None, ...</td>\n",
       "      <td>+16075667105</td>\n",
       "      <td>(607) 566-7105</td>\n",
       "      <td>3348.398498</td>\n",
       "    </tr>\n",
       "    <tr>\n",
       "      <th>13</th>\n",
       "      <td>LF1QAuvpfX7KGQlg2zMg6Q</td>\n",
       "      <td>johns-of-bleecker-street-new-york-2</td>\n",
       "      <td>John's of Bleecker Street</td>\n",
       "      <td>https://s3-media1.fl.yelpcdn.com/bphoto/r2bmU0...</td>\n",
       "      <td>False</td>\n",
       "      <td>https://www.yelp.com/biz/johns-of-bleecker-str...</td>\n",
       "      <td>2639</td>\n",
       "      <td>[{'alias': 'pizza', 'title': 'Pizza'}]</td>\n",
       "      <td>4.0</td>\n",
       "      <td>{'latitude': 40.73158, 'longitude': -74.00332}</td>\n",
       "      <td>[delivery, pickup]</td>\n",
       "      <td>$$</td>\n",
       "      <td>{'address1': '278 Bleecker St', 'address2': ''...</td>\n",
       "      <td>+12122431680</td>\n",
       "      <td>(212) 243-1680</td>\n",
       "      <td>3010.899021</td>\n",
       "    </tr>\n",
       "    <tr>\n",
       "      <th>14</th>\n",
       "      <td>hGksyTiHBBdrhbiVjXzWVw</td>\n",
       "      <td>scarrs-pizza-new-york</td>\n",
       "      <td>Scarr's Pizza</td>\n",
       "      <td>https://s3-media3.fl.yelpcdn.com/bphoto/xonxGJ...</td>\n",
       "      <td>False</td>\n",
       "      <td>https://www.yelp.com/biz/scarrs-pizza-new-york...</td>\n",
       "      <td>842</td>\n",
       "      <td>[{'alias': 'pizza', 'title': 'Pizza'}]</td>\n",
       "      <td>4.0</td>\n",
       "      <td>{'latitude': 40.7157238, 'longitude': -73.9916...</td>\n",
       "      <td>[delivery, pickup]</td>\n",
       "      <td>$</td>\n",
       "      <td>{'address1': '35 Orchard St', 'address2': '', ...</td>\n",
       "      <td>+12123343481</td>\n",
       "      <td>(212) 334-3481</td>\n",
       "      <td>1165.100255</td>\n",
       "    </tr>\n",
       "    <tr>\n",
       "      <th>15</th>\n",
       "      <td>i_rg-OLXQbpRUN7O3MeCeA</td>\n",
       "      <td>piz-zetta-pizzeria-brooklyn</td>\n",
       "      <td>Piz-zetta Pizzeria</td>\n",
       "      <td>https://s3-media2.fl.yelpcdn.com/bphoto/rEKWLF...</td>\n",
       "      <td>False</td>\n",
       "      <td>https://www.yelp.com/biz/piz-zetta-pizzeria-br...</td>\n",
       "      <td>344</td>\n",
       "      <td>[{'alias': 'italian', 'title': 'Italian'}, {'a...</td>\n",
       "      <td>4.5</td>\n",
       "      <td>{'latitude': 40.69116658201196, 'longitude': -...</td>\n",
       "      <td>[delivery, pickup]</td>\n",
       "      <td>$</td>\n",
       "      <td>{'address1': '90 Livingston St', 'address2': '...</td>\n",
       "      <td>+17184227878</td>\n",
       "      <td>(718) 422-7878</td>\n",
       "      <td>1616.959411</td>\n",
       "    </tr>\n",
       "    <tr>\n",
       "      <th>16</th>\n",
       "      <td>4h4Tuuc56YPO6lWfZ1bdSQ</td>\n",
       "      <td>joes-pizza-new-york-152</td>\n",
       "      <td>Joe's Pizza</td>\n",
       "      <td>https://s3-media4.fl.yelpcdn.com/bphoto/sUjegc...</td>\n",
       "      <td>False</td>\n",
       "      <td>https://www.yelp.com/biz/joes-pizza-new-york-1...</td>\n",
       "      <td>507</td>\n",
       "      <td>[{'alias': 'pizza', 'title': 'Pizza'}]</td>\n",
       "      <td>4.0</td>\n",
       "      <td>{'latitude': 40.7101297729083, 'longitude': -7...</td>\n",
       "      <td>[delivery, pickup]</td>\n",
       "      <td>$</td>\n",
       "      <td>{'address1': '124 Fulton St', 'address2': '', ...</td>\n",
       "      <td>+12122670860</td>\n",
       "      <td>(212) 267-0860</td>\n",
       "      <td>1245.942863</td>\n",
       "    </tr>\n",
       "    <tr>\n",
       "      <th>17</th>\n",
       "      <td>j-vsTCIrppw9w7mOB_KHhg</td>\n",
       "      <td>pizza-loves-sauce-new-york-2</td>\n",
       "      <td>Pizza Loves Sauce</td>\n",
       "      <td>https://s3-media2.fl.yelpcdn.com/bphoto/OfskPM...</td>\n",
       "      <td>False</td>\n",
       "      <td>https://www.yelp.com/biz/pizza-loves-sauce-new...</td>\n",
       "      <td>24</td>\n",
       "      <td>[{'alias': 'pizza', 'title': 'Pizza'}]</td>\n",
       "      <td>5.0</td>\n",
       "      <td>{'latitude': 40.723026, 'longitude': -73.989664}</td>\n",
       "      <td>[delivery, pickup]</td>\n",
       "      <td>NaN</td>\n",
       "      <td>{'address1': '147 E Houston St', 'address2': N...</td>\n",
       "      <td>+19174561013</td>\n",
       "      <td>(917) 456-1013</td>\n",
       "      <td>1986.675302</td>\n",
       "    </tr>\n",
       "    <tr>\n",
       "      <th>18</th>\n",
       "      <td>vpkTNjq9dRh9rT3Nh0pe-A</td>\n",
       "      <td>nolita-pizza-new-york-2</td>\n",
       "      <td>Nolita Pizza</td>\n",
       "      <td>https://s3-media2.fl.yelpcdn.com/bphoto/_BKVVo...</td>\n",
       "      <td>False</td>\n",
       "      <td>https://www.yelp.com/biz/nolita-pizza-new-york...</td>\n",
       "      <td>219</td>\n",
       "      <td>[{'alias': 'pizza', 'title': 'Pizza'}, {'alias...</td>\n",
       "      <td>4.5</td>\n",
       "      <td>{'latitude': 40.7208883, 'longitude': -73.9962...</td>\n",
       "      <td>[delivery, pickup]</td>\n",
       "      <td>$</td>\n",
       "      <td>{'address1': '68 Kenmare St', 'address2': None...</td>\n",
       "      <td>+16468959131</td>\n",
       "      <td>(646) 895-9131</td>\n",
       "      <td>1725.054309</td>\n",
       "    </tr>\n",
       "    <tr>\n",
       "      <th>19</th>\n",
       "      <td>oJ_XSPZFpvIt6rvheSQl7A</td>\n",
       "      <td>bleecker-street-pizza-new-york</td>\n",
       "      <td>Bleecker Street Pizza</td>\n",
       "      <td>https://s3-media3.fl.yelpcdn.com/bphoto/OqM3pH...</td>\n",
       "      <td>False</td>\n",
       "      <td>https://www.yelp.com/biz/bleecker-street-pizza...</td>\n",
       "      <td>2917</td>\n",
       "      <td>[{'alias': 'pizza', 'title': 'Pizza'}, {'alias...</td>\n",
       "      <td>4.0</td>\n",
       "      <td>{'latitude': 40.7320627016512, 'longitude': -7...</td>\n",
       "      <td>[delivery, pickup]</td>\n",
       "      <td>$</td>\n",
       "      <td>{'address1': '69 7th Ave S', 'address2': None,...</td>\n",
       "      <td>+12129244466</td>\n",
       "      <td>(212) 924-4466</td>\n",
       "      <td>3073.574220</td>\n",
       "    </tr>\n",
       "  </tbody>\n",
       "</table>\n",
       "</div>"
      ],
      "text/plain": [
       "                        id                                alias  \\\n",
       "0   ysqgdbSrezXgVwER2kQWKA                  julianas-brooklyn-3   \n",
       "1   zj8Lq1T8KIC5zwFief15jg       prince-street-pizza-new-york-2   \n",
       "2   WG639VkTjmK5dzydd1BBJA                  rubirosa-new-york-2   \n",
       "3   v1DHGRNCH9247WLYoaoA9A        l-industrie-pizzeria-brooklyn   \n",
       "4   WIhm0W9197f_rRtDziq5qQ           lombardis-pizza-new-york-4   \n",
       "5   2ggi1luerd3Mf_C82JvCYg        grimaldis-pizzeria-brooklyn-4   \n",
       "6   uc5qQMzs96rzjK27epDCug                joes-pizza-new-york-4   \n",
       "7   hZBxJfZtDjnMzH_jNFNHRQ         little-pizza-parlor-brooklyn   \n",
       "8   0UdC0VYX6aAvLiOcpR4MVQ                joes-pizza-new-york-7   \n",
       "9   Q9F2ocrmYuGt1yn3M7MOBw                    lucali-brooklyn-3   \n",
       "10  6mYQzAdPxa4S1ZtvjST1eg    julianas-time-out-market-brooklyn   \n",
       "11  16ZnHpuaaBt92XWeJHCC5A                olio-e-più-new-york-7   \n",
       "12  Ovniqgc47wZIEj-0rrEf3w                 macoletta-new-york-2   \n",
       "13  LF1QAuvpfX7KGQlg2zMg6Q  johns-of-bleecker-street-new-york-2   \n",
       "14  hGksyTiHBBdrhbiVjXzWVw                scarrs-pizza-new-york   \n",
       "15  i_rg-OLXQbpRUN7O3MeCeA          piz-zetta-pizzeria-brooklyn   \n",
       "16  4h4Tuuc56YPO6lWfZ1bdSQ              joes-pizza-new-york-152   \n",
       "17  j-vsTCIrppw9w7mOB_KHhg         pizza-loves-sauce-new-york-2   \n",
       "18  vpkTNjq9dRh9rT3Nh0pe-A              nolita-pizza-new-york-2   \n",
       "19  oJ_XSPZFpvIt6rvheSQl7A       bleecker-street-pizza-new-york   \n",
       "\n",
       "                           name  \\\n",
       "0                     Juliana's   \n",
       "1           Prince Street Pizza   \n",
       "2                      Rubirosa   \n",
       "3          L'industrie Pizzeria   \n",
       "4              Lombardi's Pizza   \n",
       "5           Grimaldi's Pizzeria   \n",
       "6                   Joe's Pizza   \n",
       "7           Little Pizza Parlor   \n",
       "8                   Joe's Pizza   \n",
       "9                        Lucali   \n",
       "10  Juliana's - Time Out Market   \n",
       "11                   Olio e Più   \n",
       "12                    Macoletta   \n",
       "13    John's of Bleecker Street   \n",
       "14                Scarr's Pizza   \n",
       "15           Piz-zetta Pizzeria   \n",
       "16                  Joe's Pizza   \n",
       "17            Pizza Loves Sauce   \n",
       "18                 Nolita Pizza   \n",
       "19        Bleecker Street Pizza   \n",
       "\n",
       "                                            image_url  is_closed  \\\n",
       "0   https://s3-media2.fl.yelpcdn.com/bphoto/od36nF...      False   \n",
       "1   https://s3-media4.fl.yelpcdn.com/bphoto/PfI8oV...      False   \n",
       "2   https://s3-media3.fl.yelpcdn.com/bphoto/l0Phrn...      False   \n",
       "3   https://s3-media3.fl.yelpcdn.com/bphoto/KKB2Tr...      False   \n",
       "4   https://s3-media1.fl.yelpcdn.com/bphoto/lBq1IB...      False   \n",
       "5   https://s3-media1.fl.yelpcdn.com/bphoto/Ek1cwe...      False   \n",
       "6   https://s3-media3.fl.yelpcdn.com/bphoto/FKjd9R...      False   \n",
       "7   https://s3-media2.fl.yelpcdn.com/bphoto/99YkIi...      False   \n",
       "8   https://s3-media2.fl.yelpcdn.com/bphoto/QXu6RG...      False   \n",
       "9   https://s3-media1.fl.yelpcdn.com/bphoto/rMlNCZ...      False   \n",
       "10  https://s3-media3.fl.yelpcdn.com/bphoto/kqM6U4...      False   \n",
       "11  https://s3-media4.fl.yelpcdn.com/bphoto/CUpPgz...      False   \n",
       "12  https://s3-media3.fl.yelpcdn.com/bphoto/c3GlZp...      False   \n",
       "13  https://s3-media1.fl.yelpcdn.com/bphoto/r2bmU0...      False   \n",
       "14  https://s3-media3.fl.yelpcdn.com/bphoto/xonxGJ...      False   \n",
       "15  https://s3-media2.fl.yelpcdn.com/bphoto/rEKWLF...      False   \n",
       "16  https://s3-media4.fl.yelpcdn.com/bphoto/sUjegc...      False   \n",
       "17  https://s3-media2.fl.yelpcdn.com/bphoto/OfskPM...      False   \n",
       "18  https://s3-media2.fl.yelpcdn.com/bphoto/_BKVVo...      False   \n",
       "19  https://s3-media3.fl.yelpcdn.com/bphoto/OqM3pH...      False   \n",
       "\n",
       "                                                  url  review_count  \\\n",
       "0   https://www.yelp.com/biz/julianas-brooklyn-3?a...          2697   \n",
       "1   https://www.yelp.com/biz/prince-street-pizza-n...          5041   \n",
       "2   https://www.yelp.com/biz/rubirosa-new-york-2?a...          3163   \n",
       "3   https://www.yelp.com/biz/l-industrie-pizzeria-...          1101   \n",
       "4   https://www.yelp.com/biz/lombardis-pizza-new-y...          6609   \n",
       "5   https://www.yelp.com/biz/grimaldis-pizzeria-br...          4963   \n",
       "6   https://www.yelp.com/biz/joes-pizza-new-york-4...          3063   \n",
       "7   https://www.yelp.com/biz/little-pizza-parlor-b...            54   \n",
       "8   https://www.yelp.com/biz/joes-pizza-new-york-7...          1069   \n",
       "9   https://www.yelp.com/biz/lucali-brooklyn-3?adj...          1995   \n",
       "10  https://www.yelp.com/biz/julianas-time-out-mar...             4   \n",
       "11  https://www.yelp.com/biz/olio-e-pi%C3%B9-new-y...          4865   \n",
       "12  https://www.yelp.com/biz/macoletta-new-york-2?...            23   \n",
       "13  https://www.yelp.com/biz/johns-of-bleecker-str...          2639   \n",
       "14  https://www.yelp.com/biz/scarrs-pizza-new-york...           842   \n",
       "15  https://www.yelp.com/biz/piz-zetta-pizzeria-br...           344   \n",
       "16  https://www.yelp.com/biz/joes-pizza-new-york-1...           507   \n",
       "17  https://www.yelp.com/biz/pizza-loves-sauce-new...            24   \n",
       "18  https://www.yelp.com/biz/nolita-pizza-new-york...           219   \n",
       "19  https://www.yelp.com/biz/bleecker-street-pizza...          2917   \n",
       "\n",
       "                                           categories  rating  \\\n",
       "0              [{'alias': 'pizza', 'title': 'Pizza'}]     4.5   \n",
       "1   [{'alias': 'pizza', 'title': 'Pizza'}, {'alias...     4.5   \n",
       "2   [{'alias': 'italian', 'title': 'Italian'}, {'a...     4.5   \n",
       "3              [{'alias': 'pizza', 'title': 'Pizza'}]     4.5   \n",
       "4              [{'alias': 'pizza', 'title': 'Pizza'}]     4.0   \n",
       "5   [{'alias': 'pizza', 'title': 'Pizza'}, {'alias...     3.5   \n",
       "6              [{'alias': 'pizza', 'title': 'Pizza'}]     4.0   \n",
       "7              [{'alias': 'pizza', 'title': 'Pizza'}]     4.5   \n",
       "8              [{'alias': 'pizza', 'title': 'Pizza'}]     4.0   \n",
       "9              [{'alias': 'pizza', 'title': 'Pizza'}]     4.0   \n",
       "10             [{'alias': 'pizza', 'title': 'Pizza'}]     4.5   \n",
       "11  [{'alias': 'pizza', 'title': 'Pizza'}, {'alias...     4.5   \n",
       "12             [{'alias': 'pizza', 'title': 'Pizza'}]     5.0   \n",
       "13             [{'alias': 'pizza', 'title': 'Pizza'}]     4.0   \n",
       "14             [{'alias': 'pizza', 'title': 'Pizza'}]     4.0   \n",
       "15  [{'alias': 'italian', 'title': 'Italian'}, {'a...     4.5   \n",
       "16             [{'alias': 'pizza', 'title': 'Pizza'}]     4.0   \n",
       "17             [{'alias': 'pizza', 'title': 'Pizza'}]     5.0   \n",
       "18  [{'alias': 'pizza', 'title': 'Pizza'}, {'alias...     4.5   \n",
       "19  [{'alias': 'pizza', 'title': 'Pizza'}, {'alias...     4.0   \n",
       "\n",
       "                                          coordinates        transactions  \\\n",
       "0   {'latitude': 40.70274718768062, 'longitude': -...          [delivery]   \n",
       "1   {'latitude': 40.72308755605564, 'longitude': -...  [delivery, pickup]   \n",
       "2    {'latitude': 40.722766, 'longitude': -73.996233}            [pickup]   \n",
       "3      {'latitude': 40.71162, 'longitude': -73.95783}          [delivery]   \n",
       "4   {'latitude': 40.7215934960083, 'longitude': -7...  [delivery, pickup]   \n",
       "5   {'latitude': 40.7026459, 'longitude': -73.9932...  [delivery, pickup]   \n",
       "6   {'latitude': 40.73060076, 'longitude': -74.002...          [delivery]   \n",
       "7    {'latitude': 40.692425, 'longitude': -73.984467}  [delivery, pickup]   \n",
       "8      {'latitude': 40.73331, 'longitude': -73.98763}  [delivery, pickup]   \n",
       "9   {'latitude': 40.681840746711224, 'longitude': ...          [delivery]   \n",
       "10    {'latitude': 40.703447, 'longitude': -73.99215}                  []   \n",
       "11  {'latitude': 40.733798036104304, 'longitude': ...  [delivery, pickup]   \n",
       "12  {'latitude': 40.7210325, 'longitude': -73.9601...  [delivery, pickup]   \n",
       "13     {'latitude': 40.73158, 'longitude': -74.00332}  [delivery, pickup]   \n",
       "14  {'latitude': 40.7157238, 'longitude': -73.9916...  [delivery, pickup]   \n",
       "15  {'latitude': 40.69116658201196, 'longitude': -...  [delivery, pickup]   \n",
       "16  {'latitude': 40.7101297729083, 'longitude': -7...  [delivery, pickup]   \n",
       "17   {'latitude': 40.723026, 'longitude': -73.989664}  [delivery, pickup]   \n",
       "18  {'latitude': 40.7208883, 'longitude': -73.9962...  [delivery, pickup]   \n",
       "19  {'latitude': 40.7320627016512, 'longitude': -7...  [delivery, pickup]   \n",
       "\n",
       "   price                                           location         phone  \\\n",
       "0     $$  {'address1': '19 Old Fulton St', 'address2': '...  +17185966700   \n",
       "1      $  {'address1': '27 Prince St', 'address2': None,...  +12129664100   \n",
       "2     $$  {'address1': '235 Mulberry St', 'address2': ''...  +12129650500   \n",
       "3      $  {'address1': '254 S 2nd St', 'address2': '', '...  +17185990002   \n",
       "4     $$  {'address1': '32 Spring St', 'address2': '', '...  +12129417994   \n",
       "5     $$  {'address1': '1 Front St', 'address2': '', 'ad...  +17188584300   \n",
       "6      $  {'address1': '7 Carmine St', 'address2': '', '...  +12123661182   \n",
       "7    NaN  {'address1': '192 Duffield St', 'address2': No...  +13477991249   \n",
       "8      $  {'address1': '150 E 14th St', 'address2': '', ...  +12123889474   \n",
       "9     $$  {'address1': '575 Henry St', 'address2': None,...  +17188584086   \n",
       "10   NaN  {'address1': '55 Water St', 'address2': '', 'a...                 \n",
       "11    $$  {'address1': '3 Greenwich Ave', 'address2': No...  +12122436546   \n",
       "12   NaN  {'address1': '58 N 9th St', 'address2': None, ...  +16075667105   \n",
       "13    $$  {'address1': '278 Bleecker St', 'address2': ''...  +12122431680   \n",
       "14     $  {'address1': '35 Orchard St', 'address2': '', ...  +12123343481   \n",
       "15     $  {'address1': '90 Livingston St', 'address2': '...  +17184227878   \n",
       "16     $  {'address1': '124 Fulton St', 'address2': '', ...  +12122670860   \n",
       "17   NaN  {'address1': '147 E Houston St', 'address2': N...  +19174561013   \n",
       "18     $  {'address1': '68 Kenmare St', 'address2': None...  +16468959131   \n",
       "19     $  {'address1': '69 7th Ave S', 'address2': None,...  +12129244466   \n",
       "\n",
       "     display_phone     distance  \n",
       "0   (718) 596-6700   308.569844  \n",
       "1   (212) 966-4100  1961.877142  \n",
       "2   (212) 965-0500  1932.946770  \n",
       "3   (718) 599-0002  3145.016041  \n",
       "4   (212) 941-7994  1798.995978  \n",
       "5   (718) 858-4300   323.615413  \n",
       "6   (212) 366-1182  2874.702514  \n",
       "7   (347) 799-1249  1668.414104  \n",
       "8   (212) 388-9474  3140.263109  \n",
       "9   (718) 858-4086  2673.589406  \n",
       "10                   286.339586  \n",
       "11  (212) 243-6546  3186.380498  \n",
       "12  (607) 566-7105  3348.398498  \n",
       "13  (212) 243-1680  3010.899021  \n",
       "14  (212) 334-3481  1165.100255  \n",
       "15  (718) 422-7878  1616.959411  \n",
       "16  (212) 267-0860  1245.942863  \n",
       "17  (917) 456-1013  1986.675302  \n",
       "18  (646) 895-9131  1725.054309  \n",
       "19  (212) 924-4466  3073.574220  "
      ]
     },
     "execution_count": 34,
     "metadata": {},
     "output_type": "execute_result"
    }
   ],
   "source": [
    "biz = pd.DataFrame(search_results['businesses'])\n",
    "biz"
   ]
  },
  {
   "cell_type": "code",
   "execution_count": 36,
   "id": "d24ace75-4c35-41fa-b393-6709a0382239",
   "metadata": {},
   "outputs": [
    {
     "data": {
      "text/html": [
       "<div>\n",
       "<style scoped>\n",
       "    .dataframe tbody tr th:only-of-type {\n",
       "        vertical-align: middle;\n",
       "    }\n",
       "\n",
       "    .dataframe tbody tr th {\n",
       "        vertical-align: top;\n",
       "    }\n",
       "\n",
       "    .dataframe thead th {\n",
       "        text-align: right;\n",
       "    }\n",
       "</style>\n",
       "<table border=\"1\" class=\"dataframe\">\n",
       "  <thead>\n",
       "    <tr style=\"text-align: right;\">\n",
       "      <th></th>\n",
       "      <th>id</th>\n",
       "      <th>alias</th>\n",
       "      <th>name</th>\n",
       "      <th>image_url</th>\n",
       "      <th>is_closed</th>\n",
       "      <th>url</th>\n",
       "      <th>review_count</th>\n",
       "      <th>categories</th>\n",
       "      <th>rating</th>\n",
       "      <th>coordinates</th>\n",
       "      <th>transactions</th>\n",
       "      <th>price</th>\n",
       "      <th>location</th>\n",
       "      <th>phone</th>\n",
       "      <th>display_phone</th>\n",
       "      <th>distance</th>\n",
       "    </tr>\n",
       "  </thead>\n",
       "  <tbody>\n",
       "    <tr>\n",
       "      <th>15</th>\n",
       "      <td>RfFXF-Momn0tLIgh1TZKLw</td>\n",
       "      <td>di-fara-pizza-new-york-2</td>\n",
       "      <td>Di Fara Pizza</td>\n",
       "      <td>https://s3-media3.fl.yelpcdn.com/bphoto/SaWdpz...</td>\n",
       "      <td>False</td>\n",
       "      <td>https://www.yelp.com/biz/di-fara-pizza-new-yor...</td>\n",
       "      <td>58</td>\n",
       "      <td>[{'alias': 'pizza', 'title': 'Pizza'}]</td>\n",
       "      <td>4.0</td>\n",
       "      <td>{'latitude': 40.706894091267536, 'longitude': ...</td>\n",
       "      <td>[pickup, delivery]</td>\n",
       "      <td>NaN</td>\n",
       "      <td>{'address1': '108 South St', 'address2': '', '...</td>\n",
       "      <td>+19173883130</td>\n",
       "      <td>(917) 388-3130</td>\n",
       "      <td>657.021625</td>\n",
       "    </tr>\n",
       "    <tr>\n",
       "      <th>16</th>\n",
       "      <td>r1PWMTbFXBmEhi0scGPf3w</td>\n",
       "      <td>aces-pizza-brooklyn</td>\n",
       "      <td>Ace's Pizza</td>\n",
       "      <td>https://s3-media2.fl.yelpcdn.com/bphoto/id-UXj...</td>\n",
       "      <td>False</td>\n",
       "      <td>https://www.yelp.com/biz/aces-pizza-brooklyn?a...</td>\n",
       "      <td>162</td>\n",
       "      <td>[{'alias': 'pizza', 'title': 'Pizza'}, {'alias...</td>\n",
       "      <td>4.5</td>\n",
       "      <td>{'latitude': 40.71505, 'longitude': -73.958365}</td>\n",
       "      <td>[delivery]</td>\n",
       "      <td>$$</td>\n",
       "      <td>{'address1': '637 Driggs Ave', 'address2': '',...</td>\n",
       "      <td>+13477254366</td>\n",
       "      <td>(347) 725-4366</td>\n",
       "      <td>3210.927272</td>\n",
       "    </tr>\n",
       "    <tr>\n",
       "      <th>17</th>\n",
       "      <td>15k7iqFbhf4h8L01yggLqg</td>\n",
       "      <td>song-e-napule-new-york</td>\n",
       "      <td>Song E Napule</td>\n",
       "      <td>https://s3-media2.fl.yelpcdn.com/bphoto/SQCbvL...</td>\n",
       "      <td>False</td>\n",
       "      <td>https://www.yelp.com/biz/song-e-napule-new-yor...</td>\n",
       "      <td>718</td>\n",
       "      <td>[{'alias': 'pizza', 'title': 'Pizza'}, {'alias...</td>\n",
       "      <td>4.5</td>\n",
       "      <td>{'latitude': 40.72813, 'longitude': -74.00188}</td>\n",
       "      <td>[pickup, delivery]</td>\n",
       "      <td>$$</td>\n",
       "      <td>{'address1': '146 W Houston St', 'address2': N...</td>\n",
       "      <td>+12125331242</td>\n",
       "      <td>(212) 533-1242</td>\n",
       "      <td>2607.168271</td>\n",
       "    </tr>\n",
       "    <tr>\n",
       "      <th>18</th>\n",
       "      <td>l6yVO8l8E5XI9ArgOy5rgw</td>\n",
       "      <td>ltd-pizza-and-bar-new-york</td>\n",
       "      <td>LTD Pizza and Bar</td>\n",
       "      <td>https://s3-media2.fl.yelpcdn.com/bphoto/Lt0xvq...</td>\n",
       "      <td>False</td>\n",
       "      <td>https://www.yelp.com/biz/ltd-pizza-and-bar-new...</td>\n",
       "      <td>29</td>\n",
       "      <td>[{'alias': 'pizza', 'title': 'Pizza'}, {'alias...</td>\n",
       "      <td>4.5</td>\n",
       "      <td>{'latitude': 40.724242, 'longitude': -74.00802}</td>\n",
       "      <td>[restaurant_reservation, pickup, delivery]</td>\n",
       "      <td>NaN</td>\n",
       "      <td>{'address1': '225 Hudson St', 'address2': None...</td>\n",
       "      <td>+12124191618</td>\n",
       "      <td>(212) 419-1618</td>\n",
       "      <td>2391.701096</td>\n",
       "    </tr>\n",
       "    <tr>\n",
       "      <th>19</th>\n",
       "      <td>C8j0q4Ma_S5hBGuAI-aaww</td>\n",
       "      <td>di-fara-pizza-brooklyn</td>\n",
       "      <td>Di Fara Pizza</td>\n",
       "      <td>https://s3-media1.fl.yelpcdn.com/bphoto/HWI1IP...</td>\n",
       "      <td>False</td>\n",
       "      <td>https://www.yelp.com/biz/di-fara-pizza-brookly...</td>\n",
       "      <td>3997</td>\n",
       "      <td>[{'alias': 'pizza', 'title': 'Pizza'}]</td>\n",
       "      <td>4.0</td>\n",
       "      <td>{'latitude': 40.625093, 'longitude': -73.961531}</td>\n",
       "      <td>[]</td>\n",
       "      <td>$$</td>\n",
       "      <td>{'address1': '1424 Ave J', 'address2': '', 'ad...</td>\n",
       "      <td>+17182581367</td>\n",
       "      <td>(718) 258-1367</td>\n",
       "      <td>9352.269073</td>\n",
       "    </tr>\n",
       "  </tbody>\n",
       "</table>\n",
       "</div>"
      ],
      "text/plain": [
       "                        id                       alias               name  \\\n",
       "15  RfFXF-Momn0tLIgh1TZKLw    di-fara-pizza-new-york-2      Di Fara Pizza   \n",
       "16  r1PWMTbFXBmEhi0scGPf3w         aces-pizza-brooklyn        Ace's Pizza   \n",
       "17  15k7iqFbhf4h8L01yggLqg      song-e-napule-new-york      Song E Napule   \n",
       "18  l6yVO8l8E5XI9ArgOy5rgw  ltd-pizza-and-bar-new-york  LTD Pizza and Bar   \n",
       "19  C8j0q4Ma_S5hBGuAI-aaww      di-fara-pizza-brooklyn      Di Fara Pizza   \n",
       "\n",
       "                                            image_url  is_closed  \\\n",
       "15  https://s3-media3.fl.yelpcdn.com/bphoto/SaWdpz...      False   \n",
       "16  https://s3-media2.fl.yelpcdn.com/bphoto/id-UXj...      False   \n",
       "17  https://s3-media2.fl.yelpcdn.com/bphoto/SQCbvL...      False   \n",
       "18  https://s3-media2.fl.yelpcdn.com/bphoto/Lt0xvq...      False   \n",
       "19  https://s3-media1.fl.yelpcdn.com/bphoto/HWI1IP...      False   \n",
       "\n",
       "                                                  url  review_count  \\\n",
       "15  https://www.yelp.com/biz/di-fara-pizza-new-yor...            58   \n",
       "16  https://www.yelp.com/biz/aces-pizza-brooklyn?a...           162   \n",
       "17  https://www.yelp.com/biz/song-e-napule-new-yor...           718   \n",
       "18  https://www.yelp.com/biz/ltd-pizza-and-bar-new...            29   \n",
       "19  https://www.yelp.com/biz/di-fara-pizza-brookly...          3997   \n",
       "\n",
       "                                           categories  rating  \\\n",
       "15             [{'alias': 'pizza', 'title': 'Pizza'}]     4.0   \n",
       "16  [{'alias': 'pizza', 'title': 'Pizza'}, {'alias...     4.5   \n",
       "17  [{'alias': 'pizza', 'title': 'Pizza'}, {'alias...     4.5   \n",
       "18  [{'alias': 'pizza', 'title': 'Pizza'}, {'alias...     4.5   \n",
       "19             [{'alias': 'pizza', 'title': 'Pizza'}]     4.0   \n",
       "\n",
       "                                          coordinates  \\\n",
       "15  {'latitude': 40.706894091267536, 'longitude': ...   \n",
       "16    {'latitude': 40.71505, 'longitude': -73.958365}   \n",
       "17     {'latitude': 40.72813, 'longitude': -74.00188}   \n",
       "18    {'latitude': 40.724242, 'longitude': -74.00802}   \n",
       "19   {'latitude': 40.625093, 'longitude': -73.961531}   \n",
       "\n",
       "                                  transactions price  \\\n",
       "15                          [pickup, delivery]   NaN   \n",
       "16                                  [delivery]    $$   \n",
       "17                          [pickup, delivery]    $$   \n",
       "18  [restaurant_reservation, pickup, delivery]   NaN   \n",
       "19                                          []    $$   \n",
       "\n",
       "                                             location         phone  \\\n",
       "15  {'address1': '108 South St', 'address2': '', '...  +19173883130   \n",
       "16  {'address1': '637 Driggs Ave', 'address2': '',...  +13477254366   \n",
       "17  {'address1': '146 W Houston St', 'address2': N...  +12125331242   \n",
       "18  {'address1': '225 Hudson St', 'address2': None...  +12124191618   \n",
       "19  {'address1': '1424 Ave J', 'address2': '', 'ad...  +17182581367   \n",
       "\n",
       "     display_phone     distance  \n",
       "15  (917) 388-3130   657.021625  \n",
       "16  (347) 725-4366  3210.927272  \n",
       "17  (212) 533-1242  2607.168271  \n",
       "18  (212) 419-1618  2391.701096  \n",
       "19  (718) 258-1367  9352.269073  "
      ]
     },
     "execution_count": 36,
     "metadata": {},
     "output_type": "execute_result"
    }
   ],
   "source": [
    "search_results = yelp_api.search_query(location='NY, NY',\n",
    "                                       term='Pizza', offset = 20)\n",
    "biz20 = pd.DataFrame(search_results['businesses'])\n",
    "biz20.tail()"
   ]
  },
  {
   "cell_type": "code",
   "execution_count": 37,
   "id": "06ca0d7e-a302-4c94-923e-b9076d03d09c",
   "metadata": {},
   "outputs": [
    {
     "data": {
      "text/html": [
       "<div>\n",
       "<style scoped>\n",
       "    .dataframe tbody tr th:only-of-type {\n",
       "        vertical-align: middle;\n",
       "    }\n",
       "\n",
       "    .dataframe tbody tr th {\n",
       "        vertical-align: top;\n",
       "    }\n",
       "\n",
       "    .dataframe thead th {\n",
       "        text-align: right;\n",
       "    }\n",
       "</style>\n",
       "<table border=\"1\" class=\"dataframe\">\n",
       "  <thead>\n",
       "    <tr style=\"text-align: right;\">\n",
       "      <th></th>\n",
       "      <th>id</th>\n",
       "      <th>alias</th>\n",
       "      <th>name</th>\n",
       "      <th>image_url</th>\n",
       "      <th>is_closed</th>\n",
       "      <th>url</th>\n",
       "      <th>review_count</th>\n",
       "      <th>categories</th>\n",
       "      <th>rating</th>\n",
       "      <th>coordinates</th>\n",
       "      <th>transactions</th>\n",
       "      <th>price</th>\n",
       "      <th>location</th>\n",
       "      <th>phone</th>\n",
       "      <th>display_phone</th>\n",
       "      <th>distance</th>\n",
       "    </tr>\n",
       "  </thead>\n",
       "  <tbody>\n",
       "    <tr>\n",
       "      <th>0</th>\n",
       "      <td>ysqgdbSrezXgVwER2kQWKA</td>\n",
       "      <td>julianas-brooklyn-3</td>\n",
       "      <td>Juliana's</td>\n",
       "      <td>https://s3-media2.fl.yelpcdn.com/bphoto/od36nF...</td>\n",
       "      <td>False</td>\n",
       "      <td>https://www.yelp.com/biz/julianas-brooklyn-3?a...</td>\n",
       "      <td>2697</td>\n",
       "      <td>[{'alias': 'pizza', 'title': 'Pizza'}]</td>\n",
       "      <td>4.5</td>\n",
       "      <td>{'latitude': 40.70274718768062, 'longitude': -...</td>\n",
       "      <td>[delivery]</td>\n",
       "      <td>$$</td>\n",
       "      <td>{'address1': '19 Old Fulton St', 'address2': '...</td>\n",
       "      <td>+17185966700</td>\n",
       "      <td>(718) 596-6700</td>\n",
       "      <td>308.569844</td>\n",
       "    </tr>\n",
       "    <tr>\n",
       "      <th>1</th>\n",
       "      <td>zj8Lq1T8KIC5zwFief15jg</td>\n",
       "      <td>prince-street-pizza-new-york-2</td>\n",
       "      <td>Prince Street Pizza</td>\n",
       "      <td>https://s3-media4.fl.yelpcdn.com/bphoto/PfI8oV...</td>\n",
       "      <td>False</td>\n",
       "      <td>https://www.yelp.com/biz/prince-street-pizza-n...</td>\n",
       "      <td>5041</td>\n",
       "      <td>[{'alias': 'pizza', 'title': 'Pizza'}, {'alias...</td>\n",
       "      <td>4.5</td>\n",
       "      <td>{'latitude': 40.72308755605564, 'longitude': -...</td>\n",
       "      <td>[delivery, pickup]</td>\n",
       "      <td>$</td>\n",
       "      <td>{'address1': '27 Prince St', 'address2': None,...</td>\n",
       "      <td>+12129664100</td>\n",
       "      <td>(212) 966-4100</td>\n",
       "      <td>1961.877142</td>\n",
       "    </tr>\n",
       "    <tr>\n",
       "      <th>2</th>\n",
       "      <td>WG639VkTjmK5dzydd1BBJA</td>\n",
       "      <td>rubirosa-new-york-2</td>\n",
       "      <td>Rubirosa</td>\n",
       "      <td>https://s3-media3.fl.yelpcdn.com/bphoto/l0Phrn...</td>\n",
       "      <td>False</td>\n",
       "      <td>https://www.yelp.com/biz/rubirosa-new-york-2?a...</td>\n",
       "      <td>3163</td>\n",
       "      <td>[{'alias': 'italian', 'title': 'Italian'}, {'a...</td>\n",
       "      <td>4.5</td>\n",
       "      <td>{'latitude': 40.722766, 'longitude': -73.996233}</td>\n",
       "      <td>[pickup]</td>\n",
       "      <td>$$</td>\n",
       "      <td>{'address1': '235 Mulberry St', 'address2': ''...</td>\n",
       "      <td>+12129650500</td>\n",
       "      <td>(212) 965-0500</td>\n",
       "      <td>1932.946770</td>\n",
       "    </tr>\n",
       "  </tbody>\n",
       "</table>\n",
       "</div>"
      ],
      "text/plain": [
       "                       id                           alias  \\\n",
       "0  ysqgdbSrezXgVwER2kQWKA             julianas-brooklyn-3   \n",
       "1  zj8Lq1T8KIC5zwFief15jg  prince-street-pizza-new-york-2   \n",
       "2  WG639VkTjmK5dzydd1BBJA             rubirosa-new-york-2   \n",
       "\n",
       "                  name                                          image_url  \\\n",
       "0            Juliana's  https://s3-media2.fl.yelpcdn.com/bphoto/od36nF...   \n",
       "1  Prince Street Pizza  https://s3-media4.fl.yelpcdn.com/bphoto/PfI8oV...   \n",
       "2             Rubirosa  https://s3-media3.fl.yelpcdn.com/bphoto/l0Phrn...   \n",
       "\n",
       "   is_closed                                                url  review_count  \\\n",
       "0      False  https://www.yelp.com/biz/julianas-brooklyn-3?a...          2697   \n",
       "1      False  https://www.yelp.com/biz/prince-street-pizza-n...          5041   \n",
       "2      False  https://www.yelp.com/biz/rubirosa-new-york-2?a...          3163   \n",
       "\n",
       "                                          categories  rating  \\\n",
       "0             [{'alias': 'pizza', 'title': 'Pizza'}]     4.5   \n",
       "1  [{'alias': 'pizza', 'title': 'Pizza'}, {'alias...     4.5   \n",
       "2  [{'alias': 'italian', 'title': 'Italian'}, {'a...     4.5   \n",
       "\n",
       "                                         coordinates        transactions  \\\n",
       "0  {'latitude': 40.70274718768062, 'longitude': -...          [delivery]   \n",
       "1  {'latitude': 40.72308755605564, 'longitude': -...  [delivery, pickup]   \n",
       "2   {'latitude': 40.722766, 'longitude': -73.996233}            [pickup]   \n",
       "\n",
       "  price                                           location         phone  \\\n",
       "0    $$  {'address1': '19 Old Fulton St', 'address2': '...  +17185966700   \n",
       "1     $  {'address1': '27 Prince St', 'address2': None,...  +12129664100   \n",
       "2    $$  {'address1': '235 Mulberry St', 'address2': ''...  +12129650500   \n",
       "\n",
       "    display_phone     distance  \n",
       "0  (718) 596-6700   308.569844  \n",
       "1  (212) 966-4100  1961.877142  \n",
       "2  (212) 965-0500  1932.946770  "
      ]
     },
     "metadata": {},
     "output_type": "display_data"
    },
    {
     "data": {
      "text/html": [
       "<div>\n",
       "<style scoped>\n",
       "    .dataframe tbody tr th:only-of-type {\n",
       "        vertical-align: middle;\n",
       "    }\n",
       "\n",
       "    .dataframe tbody tr th {\n",
       "        vertical-align: top;\n",
       "    }\n",
       "\n",
       "    .dataframe thead th {\n",
       "        text-align: right;\n",
       "    }\n",
       "</style>\n",
       "<table border=\"1\" class=\"dataframe\">\n",
       "  <thead>\n",
       "    <tr style=\"text-align: right;\">\n",
       "      <th></th>\n",
       "      <th>id</th>\n",
       "      <th>alias</th>\n",
       "      <th>name</th>\n",
       "      <th>image_url</th>\n",
       "      <th>is_closed</th>\n",
       "      <th>url</th>\n",
       "      <th>review_count</th>\n",
       "      <th>categories</th>\n",
       "      <th>rating</th>\n",
       "      <th>coordinates</th>\n",
       "      <th>transactions</th>\n",
       "      <th>price</th>\n",
       "      <th>location</th>\n",
       "      <th>phone</th>\n",
       "      <th>display_phone</th>\n",
       "      <th>distance</th>\n",
       "    </tr>\n",
       "  </thead>\n",
       "  <tbody>\n",
       "    <tr>\n",
       "      <th>37</th>\n",
       "      <td>15k7iqFbhf4h8L01yggLqg</td>\n",
       "      <td>song-e-napule-new-york</td>\n",
       "      <td>Song E Napule</td>\n",
       "      <td>https://s3-media2.fl.yelpcdn.com/bphoto/SQCbvL...</td>\n",
       "      <td>False</td>\n",
       "      <td>https://www.yelp.com/biz/song-e-napule-new-yor...</td>\n",
       "      <td>718</td>\n",
       "      <td>[{'alias': 'pizza', 'title': 'Pizza'}, {'alias...</td>\n",
       "      <td>4.5</td>\n",
       "      <td>{'latitude': 40.72813, 'longitude': -74.00188}</td>\n",
       "      <td>[pickup, delivery]</td>\n",
       "      <td>$$</td>\n",
       "      <td>{'address1': '146 W Houston St', 'address2': N...</td>\n",
       "      <td>+12125331242</td>\n",
       "      <td>(212) 533-1242</td>\n",
       "      <td>2607.168271</td>\n",
       "    </tr>\n",
       "    <tr>\n",
       "      <th>38</th>\n",
       "      <td>l6yVO8l8E5XI9ArgOy5rgw</td>\n",
       "      <td>ltd-pizza-and-bar-new-york</td>\n",
       "      <td>LTD Pizza and Bar</td>\n",
       "      <td>https://s3-media2.fl.yelpcdn.com/bphoto/Lt0xvq...</td>\n",
       "      <td>False</td>\n",
       "      <td>https://www.yelp.com/biz/ltd-pizza-and-bar-new...</td>\n",
       "      <td>29</td>\n",
       "      <td>[{'alias': 'pizza', 'title': 'Pizza'}, {'alias...</td>\n",
       "      <td>4.5</td>\n",
       "      <td>{'latitude': 40.724242, 'longitude': -74.00802}</td>\n",
       "      <td>[restaurant_reservation, pickup, delivery]</td>\n",
       "      <td>NaN</td>\n",
       "      <td>{'address1': '225 Hudson St', 'address2': None...</td>\n",
       "      <td>+12124191618</td>\n",
       "      <td>(212) 419-1618</td>\n",
       "      <td>2391.701096</td>\n",
       "    </tr>\n",
       "    <tr>\n",
       "      <th>39</th>\n",
       "      <td>C8j0q4Ma_S5hBGuAI-aaww</td>\n",
       "      <td>di-fara-pizza-brooklyn</td>\n",
       "      <td>Di Fara Pizza</td>\n",
       "      <td>https://s3-media1.fl.yelpcdn.com/bphoto/HWI1IP...</td>\n",
       "      <td>False</td>\n",
       "      <td>https://www.yelp.com/biz/di-fara-pizza-brookly...</td>\n",
       "      <td>3997</td>\n",
       "      <td>[{'alias': 'pizza', 'title': 'Pizza'}]</td>\n",
       "      <td>4.0</td>\n",
       "      <td>{'latitude': 40.625093, 'longitude': -73.961531}</td>\n",
       "      <td>[]</td>\n",
       "      <td>$$</td>\n",
       "      <td>{'address1': '1424 Ave J', 'address2': '', 'ad...</td>\n",
       "      <td>+17182581367</td>\n",
       "      <td>(718) 258-1367</td>\n",
       "      <td>9352.269073</td>\n",
       "    </tr>\n",
       "  </tbody>\n",
       "</table>\n",
       "</div>"
      ],
      "text/plain": [
       "                        id                       alias               name  \\\n",
       "37  15k7iqFbhf4h8L01yggLqg      song-e-napule-new-york      Song E Napule   \n",
       "38  l6yVO8l8E5XI9ArgOy5rgw  ltd-pizza-and-bar-new-york  LTD Pizza and Bar   \n",
       "39  C8j0q4Ma_S5hBGuAI-aaww      di-fara-pizza-brooklyn      Di Fara Pizza   \n",
       "\n",
       "                                            image_url  is_closed  \\\n",
       "37  https://s3-media2.fl.yelpcdn.com/bphoto/SQCbvL...      False   \n",
       "38  https://s3-media2.fl.yelpcdn.com/bphoto/Lt0xvq...      False   \n",
       "39  https://s3-media1.fl.yelpcdn.com/bphoto/HWI1IP...      False   \n",
       "\n",
       "                                                  url  review_count  \\\n",
       "37  https://www.yelp.com/biz/song-e-napule-new-yor...           718   \n",
       "38  https://www.yelp.com/biz/ltd-pizza-and-bar-new...            29   \n",
       "39  https://www.yelp.com/biz/di-fara-pizza-brookly...          3997   \n",
       "\n",
       "                                           categories  rating  \\\n",
       "37  [{'alias': 'pizza', 'title': 'Pizza'}, {'alias...     4.5   \n",
       "38  [{'alias': 'pizza', 'title': 'Pizza'}, {'alias...     4.5   \n",
       "39             [{'alias': 'pizza', 'title': 'Pizza'}]     4.0   \n",
       "\n",
       "                                         coordinates  \\\n",
       "37    {'latitude': 40.72813, 'longitude': -74.00188}   \n",
       "38   {'latitude': 40.724242, 'longitude': -74.00802}   \n",
       "39  {'latitude': 40.625093, 'longitude': -73.961531}   \n",
       "\n",
       "                                  transactions price  \\\n",
       "37                          [pickup, delivery]    $$   \n",
       "38  [restaurant_reservation, pickup, delivery]   NaN   \n",
       "39                                          []    $$   \n",
       "\n",
       "                                             location         phone  \\\n",
       "37  {'address1': '146 W Houston St', 'address2': N...  +12125331242   \n",
       "38  {'address1': '225 Hudson St', 'address2': None...  +12124191618   \n",
       "39  {'address1': '1424 Ave J', 'address2': '', 'ad...  +17182581367   \n",
       "\n",
       "     display_phone     distance  \n",
       "37  (212) 533-1242  2607.168271  \n",
       "38  (212) 419-1618  2391.701096  \n",
       "39  (718) 258-1367  9352.269073  "
      ]
     },
     "metadata": {},
     "output_type": "display_data"
    }
   ],
   "source": [
    "businesses = pd.concat([biz, biz20],\n",
    "                      ignore_index=True)\n",
    "display(businesses.head(3), businesses.tail(3))"
   ]
  },
  {
   "cell_type": "code",
   "execution_count": 38,
   "id": "4119c961-aab1-4828-b4b0-bd9f3f25d6ab",
   "metadata": {},
   "outputs": [],
   "source": [
    "# Standard Imports\n",
    "import numpy as np\n",
    "import pandas as pd\n",
    "import matplotlib.pyplot as plt\n",
    "import seaborn as sns\n",
    "# Additional Imports\n",
    "import os, json, math, time\n",
    "from yelpapi import YelpAPI\n",
    "from tqdm.notebook import tqdm_notebook"
   ]
  },
  {
   "cell_type": "code",
   "execution_count": 41,
   "id": "e8f559c3-a9d5-4d79-999a-8c1e4a27959c",
   "metadata": {},
   "outputs": [],
   "source": [
    "# Load API Credentials\n",
    "with open('.secret/yelp_api.json') as f:   #use your path here!\n",
    "    login = json.load(f)\n",
    "# Instantiate YelpAPI Variable\n",
    "yelp_api = YelpAPI(login['api-key'], timeout_s=5.0)"
   ]
  },
  {
   "cell_type": "code",
   "execution_count": 42,
   "id": "a615c15b-5845-4908-9005-5b856a2be790",
   "metadata": {},
   "outputs": [],
   "source": [
    "# set our API call parameters \n",
    "LOCATION = 'NY,NY'\n",
    "TERM = 'Pizza'"
   ]
  },
  {
   "cell_type": "code",
   "execution_count": 44,
   "id": "5e393baf-dede-4320-b894-ac4d5b8e0d03",
   "metadata": {},
   "outputs": [
    {
     "data": {
      "text/plain": [
       "'Data/results_in_progress_NY_pizza.json'"
      ]
     },
     "execution_count": 44,
     "metadata": {},
     "output_type": "execute_result"
    }
   ],
   "source": [
    "JSON_FILE = \"Data/results_in_progress_NY_pizza.json\"\n",
    "JSON_FILE"
   ]
  },
  {
   "cell_type": "code",
   "execution_count": 45,
   "id": "81761238-aa77-4607-a630-a0f555c124c5",
   "metadata": {},
   "outputs": [
    {
     "name": "stdout",
     "output_type": "stream",
     "text": [
      "[i] Data/results_in_progress_NY_pizza.json not found. Saving empty list to file.\n"
     ]
    }
   ],
   "source": [
    "## Check if JSON_FILE exists\n",
    "file_exists = os.path.isfile(JSON_FILE)\n",
    "## If it does not exist: \n",
    "if file_exists == False:\n",
    "    \n",
    "    ## CREATE ANY NEEDED FOLDERS\n",
    "    # Get the Folder Name only\n",
    "    folder = os.path.dirname(JSON_FILE)\n",
    "    ## If JSON_FILE included a folder:\n",
    "    if len(folder)>0:\n",
    "        # create the folder\n",
    "        os.makedirs(folder,exist_ok=True)\n",
    "        \n",
    "        \n",
    "    ## INFORM USER AND SAVE EMPTY LIST\n",
    "    print(f'[i] {JSON_FILE} not found. Saving empty list to file.')\n",
    "    \n",
    "    \n",
    "    # save an empty list\n",
    "    with open(JSON_FILE,'w') as f:\n",
    "        json.dump([],f)  \n",
    "# If it exists, inform user\n",
    "else:\n",
    "    print(f\"[i] {JSON_FILE} already exists.\")"
   ]
  },
  {
   "cell_type": "code",
   "execution_count": 51,
   "id": "ae567eb3-8b77-4ce6-a911-89a7a34e50ec",
   "metadata": {},
   "outputs": [
    {
     "name": "stdout",
     "output_type": "stream",
     "text": [
      "- 0 previous results found.\n"
     ]
    }
   ],
   "source": [
    "## Load previous results and use len of results for offset\n",
    "with open(JSON_FILE,'r') as f:\n",
    "    previous_results = json.load(f)\n",
    "    \n",
    "## set offset based on previous results\n",
    "n_results = len(previous_results)\n",
    "print(f'- {n_results} previous results found.')"
   ]
  },
  {
   "cell_type": "code",
   "execution_count": 47,
   "id": "a72c66b6-4b26-4e9a-8236-50d4132f06ea",
   "metadata": {},
   "outputs": [
    {
     "data": {
      "text/plain": [
       "dict_keys(['businesses', 'total', 'region'])"
      ]
     },
     "execution_count": 47,
     "metadata": {},
     "output_type": "execute_result"
    }
   ],
   "source": [
    "# use our yelp_api variable's search_query method to perform our API call\n",
    "results = yelp_api.search_query(location=LOCATION,\n",
    "                                term=TERM,\n",
    "                               offset=n_results)\n",
    "results.keys()"
   ]
  },
  {
   "cell_type": "code",
   "execution_count": 48,
   "id": "dbcc3337-f4ce-4c30-b066-82f691d751cb",
   "metadata": {},
   "outputs": [
    {
     "data": {
      "text/plain": [
       "12400"
      ]
     },
     "execution_count": 48,
     "metadata": {},
     "output_type": "execute_result"
    }
   ],
   "source": [
    "## How many results total?\n",
    "total_results = results['total']\n",
    "total_results"
   ]
  },
  {
   "cell_type": "code",
   "execution_count": 49,
   "id": "3876164b-ec08-4f39-998b-8106cf69d7b9",
   "metadata": {},
   "outputs": [
    {
     "data": {
      "text/plain": [
       "20"
      ]
     },
     "execution_count": 49,
     "metadata": {},
     "output_type": "execute_result"
    }
   ],
   "source": [
    "results_per_page = len(results['businesses'])\n",
    "results_per_page"
   ]
  },
  {
   "cell_type": "code",
   "execution_count": 50,
   "id": "7411e7f4-3629-4a4f-b53c-1b08bcfef05f",
   "metadata": {},
   "outputs": [
    {
     "data": {
      "text/plain": [
       "620"
      ]
     },
     "execution_count": 50,
     "metadata": {},
     "output_type": "execute_result"
    }
   ],
   "source": [
    "# Import additional packages for controlling our loop\n",
    "import time, math\n",
    "# Use math.ceil to round up for the total number of pages of results.\n",
    "n_pages = math.ceil((results['total']-n_results)/ results_per_page)\n",
    "n_pages"
   ]
  },
  {
   "cell_type": "code",
   "execution_count": 52,
   "id": "0a8a036c-1199-4da5-a43d-0145bad3dfe9",
   "metadata": {},
   "outputs": [],
   "source": [
    "# join new results with old list with extend and save to file\n",
    "previous_results.extend(results['businesses'])  \n",
    "with open(JSON_FILE,'w') as f:\n",
    "     json.dump(previous_results,f)"
   ]
  },
  {
   "cell_type": "markdown",
   "id": "a1bcdf90-ec55-4af1-8dcc-785a67c07f61",
   "metadata": {},
   "source": [
    "### Code for Efficient API Extraction"
   ]
  },
  {
   "cell_type": "code",
   "execution_count": 53,
   "id": "289a65fa-4e5d-4cd1-a056-65a0ac881379",
   "metadata": {},
   "outputs": [
    {
     "name": "stdout",
     "output_type": "stream",
     "text": [
      "Requirement already satisfied: tqdm in c:\\users\\eliud\\anaconda3\\envs\\dojo-env\\lib\\site-packages (4.65.0)\n",
      "Requirement already satisfied: colorama in c:\\users\\eliud\\anaconda3\\envs\\dojo-env\\lib\\site-packages (from tqdm) (0.4.6)\n"
     ]
    }
   ],
   "source": [
    "# install tqdm for adding animated progress bar to python process\n",
    "!pip install tqdm"
   ]
  },
  {
   "cell_type": "code",
   "execution_count": 54,
   "id": "d4ad22fa-b6da-4c87-9589-91ff461ecbc2",
   "metadata": {},
   "outputs": [
    {
     "data": {
      "application/vnd.jupyter.widget-view+json": {
       "model_id": "47d669dec38a4e2d893e183f88c0764e",
       "version_major": 2,
       "version_minor": 0
      },
      "text/plain": [
       "  0%|          | 0/620 [00:00<?, ?it/s]"
      ]
     },
     "metadata": {},
     "output_type": "display_data"
    }
   ],
   "source": [
    "from tqdm.notebook import tqdm_notebook\n",
    "import time\n",
    "for i in tqdm_notebook(range(n_pages)):\n",
    "    # adds 200 ms pause\n",
    "    time.sleep(.2) "
   ]
  },
  {
   "cell_type": "code",
   "execution_count": 56,
   "id": "de8ab60b-d16c-42a6-b12d-8b35bcc9be04",
   "metadata": {},
   "outputs": [
    {
     "data": {
      "application/vnd.jupyter.widget-view+json": {
       "model_id": "010b5ce1dbc447299cde503f548fde63",
       "version_major": 2,
       "version_minor": 0
      },
      "text/plain": [
       "  0%|          | 0/620 [00:00<?, ?it/s]"
      ]
     },
     "metadata": {},
     "output_type": "display_data"
    },
    {
     "ename": "YelpAPIError",
     "evalue": "VALIDATION_ERROR: Too many results requested, limit+offset must be <= 1000.",
     "output_type": "error",
     "traceback": [
      "\u001b[1;31m---------------------------------------------------------------------------\u001b[0m",
      "\u001b[1;31mYelpAPIError\u001b[0m                              Traceback (most recent call last)",
      "Cell \u001b[1;32mIn[56], line 9\u001b[0m\n\u001b[0;32m      7\u001b[0m n_results \u001b[38;5;241m=\u001b[39m \u001b[38;5;28mlen\u001b[39m(previous_results)\n\u001b[0;32m      8\u001b[0m \u001b[38;5;66;03m## use n_results as the OFFSET \u001b[39;00m\n\u001b[1;32m----> 9\u001b[0m results \u001b[38;5;241m=\u001b[39m \u001b[43myelp_api\u001b[49m\u001b[38;5;241;43m.\u001b[39;49m\u001b[43msearch_query\u001b[49m\u001b[43m(\u001b[49m\u001b[43mlocation\u001b[49m\u001b[38;5;241;43m=\u001b[39;49m\u001b[43mLOCATION\u001b[49m\u001b[43m,\u001b[49m\n\u001b[0;32m     10\u001b[0m \u001b[43m                                \u001b[49m\u001b[43mterm\u001b[49m\u001b[38;5;241;43m=\u001b[39;49m\u001b[43mTERM\u001b[49m\u001b[43m,\u001b[49m\u001b[43m \u001b[49m\n\u001b[0;32m     11\u001b[0m \u001b[43m                                \u001b[49m\u001b[43moffset\u001b[49m\u001b[38;5;241;43m=\u001b[39;49m\u001b[43mn_results\u001b[49m\u001b[43m)\u001b[49m\n\u001b[0;32m     13\u001b[0m \u001b[38;5;66;03m## append new results and save to file\u001b[39;00m\n\u001b[0;32m     14\u001b[0m previous_results\u001b[38;5;241m.\u001b[39mextend(results[\u001b[38;5;124m'\u001b[39m\u001b[38;5;124mbusinesses\u001b[39m\u001b[38;5;124m'\u001b[39m])\n",
      "File \u001b[1;32m~\\AppData\\Roaming\\Python\\Python310\\site-packages\\yelpapi\\yelpapi.py:234\u001b[0m, in \u001b[0;36mYelpAPI.search_query\u001b[1;34m(self, **kwargs)\u001b[0m\n\u001b[0;32m    230\u001b[0m \u001b[38;5;28;01mif\u001b[39;00m \u001b[38;5;129;01mnot\u001b[39;00m kwargs\u001b[38;5;241m.\u001b[39mget(\u001b[38;5;124m'\u001b[39m\u001b[38;5;124mlocation\u001b[39m\u001b[38;5;124m'\u001b[39m) \u001b[38;5;129;01mand\u001b[39;00m (\u001b[38;5;129;01mnot\u001b[39;00m kwargs\u001b[38;5;241m.\u001b[39mget(\u001b[38;5;124m'\u001b[39m\u001b[38;5;124mlatitude\u001b[39m\u001b[38;5;124m'\u001b[39m) \u001b[38;5;129;01mor\u001b[39;00m \u001b[38;5;129;01mnot\u001b[39;00m kwargs\u001b[38;5;241m.\u001b[39mget(\u001b[38;5;124m'\u001b[39m\u001b[38;5;124mlongitude\u001b[39m\u001b[38;5;124m'\u001b[39m)):\n\u001b[0;32m    231\u001b[0m     \u001b[38;5;28;01mraise\u001b[39;00m \u001b[38;5;167;01mValueError\u001b[39;00m(\u001b[38;5;124m'\u001b[39m\u001b[38;5;124mA valid location (parameter \u001b[39m\u001b[38;5;124m\"\u001b[39m\u001b[38;5;124mlocation\u001b[39m\u001b[38;5;124m\"\u001b[39m\u001b[38;5;124m) or latitude/longitude combination \u001b[39m\u001b[38;5;124m'\u001b[39m\n\u001b[0;32m    232\u001b[0m                      \u001b[38;5;124m'\u001b[39m\u001b[38;5;124m(parameters \u001b[39m\u001b[38;5;124m\"\u001b[39m\u001b[38;5;124mlatitude\u001b[39m\u001b[38;5;124m\"\u001b[39m\u001b[38;5;124m and \u001b[39m\u001b[38;5;124m\"\u001b[39m\u001b[38;5;124mlongitude\u001b[39m\u001b[38;5;124m\"\u001b[39m\u001b[38;5;124m) must be provided.\u001b[39m\u001b[38;5;124m'\u001b[39m)\n\u001b[1;32m--> 234\u001b[0m \u001b[38;5;28;01mreturn\u001b[39;00m \u001b[38;5;28mself\u001b[39m\u001b[38;5;241m.\u001b[39m_query(SEARCH_API_URL, \u001b[38;5;241m*\u001b[39m\u001b[38;5;241m*\u001b[39mkwargs)\n",
      "File \u001b[1;32m~\\AppData\\Roaming\\Python\\Python310\\site-packages\\yelpapi\\yelpapi.py:282\u001b[0m, in \u001b[0;36mYelpAPI._query\u001b[1;34m(self, url, **kwargs)\u001b[0m\n\u001b[0;32m    278\u001b[0m \u001b[38;5;66;03m# Yelp can return one of many different API errors, so check for one of them.\u001b[39;00m\n\u001b[0;32m    279\u001b[0m \u001b[38;5;66;03m# The Yelp Fusion API does not yet have a complete list of errors, but this is on the TODO list; see\u001b[39;00m\n\u001b[0;32m    280\u001b[0m \u001b[38;5;66;03m# https://github.com/Yelp/yelp-fusion/issues/95 for more info.\u001b[39;00m\n\u001b[0;32m    281\u001b[0m \u001b[38;5;28;01mif\u001b[39;00m \u001b[38;5;124m'\u001b[39m\u001b[38;5;124merror\u001b[39m\u001b[38;5;124m'\u001b[39m \u001b[38;5;129;01min\u001b[39;00m response_json:\n\u001b[1;32m--> 282\u001b[0m     \u001b[38;5;28;01mraise\u001b[39;00m YelpAPI\u001b[38;5;241m.\u001b[39mYelpAPIError(\u001b[38;5;124m'\u001b[39m\u001b[38;5;132;01m{}\u001b[39;00m\u001b[38;5;124m: \u001b[39m\u001b[38;5;132;01m{}\u001b[39;00m\u001b[38;5;124m'\u001b[39m\u001b[38;5;241m.\u001b[39mformat(response_json[\u001b[38;5;124m'\u001b[39m\u001b[38;5;124merror\u001b[39m\u001b[38;5;124m'\u001b[39m][\u001b[38;5;124m'\u001b[39m\u001b[38;5;124mcode\u001b[39m\u001b[38;5;124m'\u001b[39m],\n\u001b[0;32m    283\u001b[0m                                                response_json[\u001b[38;5;124m'\u001b[39m\u001b[38;5;124merror\u001b[39m\u001b[38;5;124m'\u001b[39m][\u001b[38;5;124m'\u001b[39m\u001b[38;5;124mdescription\u001b[39m\u001b[38;5;124m'\u001b[39m]))\n\u001b[0;32m    285\u001b[0m \u001b[38;5;66;03m# we got a good response, so return\u001b[39;00m\n\u001b[0;32m    286\u001b[0m \u001b[38;5;28;01mreturn\u001b[39;00m response_json\n",
      "\u001b[1;31mYelpAPIError\u001b[0m: VALIDATION_ERROR: Too many results requested, limit+offset must be <= 1000."
     ]
    }
   ],
   "source": [
    "for i in tqdm_notebook( range(1,n_pages+1)):\n",
    "    \n",
    "    ## Read in results in progress file and check the length\n",
    "    with open(JSON_FILE, 'r') as f:\n",
    "        previous_results = json.load(f)\n",
    "    ## save number of results for to use as offset\n",
    "    n_results = len(previous_results)\n",
    "    ## use n_results as the OFFSET \n",
    "    results = yelp_api.search_query(location=LOCATION,\n",
    "                                    term=TERM, \n",
    "                                    offset=n_results)\n",
    "    \n",
    "    ## append new results and save to file\n",
    "    previous_results.extend(results['businesses'])\n",
    "    \n",
    "    with open(JSON_FILE,'w') as f:\n",
    "        json.dump(previous_results,f)\n",
    "    \n",
    "    # add a 200ms pause\n",
    "    time.sleep(.2)"
   ]
  },
  {
   "cell_type": "code",
   "execution_count": 57,
   "id": "253e16f4-5d9d-4f65-a6c6-b45753a4beca",
   "metadata": {},
   "outputs": [
    {
     "data": {
      "text/plain": [
       "False"
      ]
     },
     "execution_count": 57,
     "metadata": {},
     "output_type": "execute_result"
    }
   ],
   "source": [
    "# deleting JSON_FILE programmatically\n",
    "os.remove(JSON_FILE)\n",
    "os.path.isfile(JSON_FILE)"
   ]
  },
  {
   "cell_type": "code",
   "execution_count": 58,
   "id": "07351caa-bfb8-4a39-9cfa-af66ad9d8c51",
   "metadata": {},
   "outputs": [],
   "source": [
    "def create_json_file(JSON_FILE,  delete_if_exists=False):\n",
    "    \n",
    "    ## Check if JSON_FILE exists\n",
    "    file_exists = os.path.isfile(JSON_FILE)\n",
    "    \n",
    "    ## If it DOES exist:\n",
    "    if file_exists == True:\n",
    "        \n",
    "        ## Check if user wants to delete if exists\n",
    "        if delete_if_exists==True:\n",
    "            \n",
    "            print(f\"[!] {JSON_FILE} already exists. Deleting previous file...\")\n",
    "            ## delete file and confirm it no longer exits.\n",
    "            os.remove(JSON_FILE)\n",
    "            ## Recursive call to function after old file deleted\n",
    "            create_json_file(JSON_FILE,delete_if_exists=False)\n",
    "        else:\n",
    "            print(f\"[i] {JSON_FILE} already exists.\")            \n",
    "            \n",
    "            \n",
    "    ## If it does NOT exist:\n",
    "    else:\n",
    "        \n",
    "        ## INFORM USER AND SAVE EMPTY LIST\n",
    "        print(f\"[i] {JSON_FILE} not found. Saving empty list to new file.\")\n",
    "        \n",
    "        ## CREATE ANY NEEDED FOLDERS\n",
    "        # Get the Folder Name only\n",
    "        folder = os.path.dirname(JSON_FILE)\n",
    "        \n",
    "        ## If JSON_FILE included a folder:\n",
    "        if len(folder)>0:\n",
    "            # create the folder\n",
    "            os.makedirs(folder,exist_ok=True)\n",
    "        ## Save empty list to start the json file\n",
    "        with open(JSON_FILE,'w') as f:\n",
    "            json.dump([],f)  "
   ]
  },
  {
   "cell_type": "code",
   "execution_count": 59,
   "id": "6e8b6db2-2ed7-47c9-9059-7538ba4ff126",
   "metadata": {},
   "outputs": [
    {
     "name": "stdout",
     "output_type": "stream",
     "text": [
      "[i] Data/results_in_progress_NY_pizza.json not found. Saving empty list to new file.\n",
      "- 0 previous results found.\n"
     ]
    },
    {
     "data": {
      "text/plain": [
       "620"
      ]
     },
     "execution_count": 59,
     "metadata": {},
     "output_type": "execute_result"
    }
   ],
   "source": [
    "## Create a new empty json file (exist the previous if it exists)\n",
    "create_json_file(JSON_FILE, delete_if_exists=True)\n",
    "## Load previous results and use len of results for offset\n",
    "with open(JSON_FILE,'r') as f:\n",
    "    previous_results = json.load(f)\n",
    "    \n",
    "## set offset based on previous results\n",
    "n_results = len(previous_results)\n",
    "print(f'- {n_results} previous results found.')\n",
    "# use our yelp_api variable's search_query method to perform our API call\n",
    "results = yelp_api.search_query(location=LOCATION,\n",
    "                                term=TERM,\n",
    "                               offset=n_results)\n",
    "## How many results total?\n",
    "total_results = results['total']\n",
    "## How many did we get the details for?\n",
    "results_per_page = len(results['businesses'])\n",
    "# Use math.ceil to round up for the total number of pages of results.\n",
    "n_pages = math.ceil((results['total']-n_results)/ results_per_page)\n",
    "n_pages"
   ]
  },
  {
   "cell_type": "code",
   "execution_count": 61,
   "id": "ad417e91-523e-4f38-a3e0-445b0b4095f5",
   "metadata": {},
   "outputs": [
    {
     "data": {
      "application/vnd.jupyter.widget-view+json": {
       "model_id": "583f3467206149d1a861a5058a929971",
       "version_major": 2,
       "version_minor": 0
      },
      "text/plain": [
       "  0%|          | 0/620 [00:00<?, ?it/s]"
      ]
     },
     "metadata": {},
     "output_type": "display_data"
    },
    {
     "name": "stdout",
     "output_type": "stream",
     "text": [
      "Exceeded 1000 api calls. Stopping loop.\n"
     ]
    }
   ],
   "source": [
    "for i in tqdm_notebook( range(1,n_pages+1)):\n",
    "    \n",
    "    ## Read in results in progress file and check the length\n",
    "    with open(JSON_FILE, 'r') as f:\n",
    "        previous_results = json.load(f)\n",
    "    ## save number of results for to use as offset\n",
    "    n_results = len(previous_results)\n",
    "    \n",
    "    if (n_results + results_per_page) > 1000:\n",
    "        print('Exceeded 1000 api calls. Stopping loop.')\n",
    "        break\n",
    "    \n",
    "    ## use n_results as the OFFSET \n",
    "    results = yelp_api.search_query(location=LOCATION,\n",
    "                                    term=TERM, \n",
    "                                    offset=n_results)\n",
    "    \n",
    "    \n",
    "    \n",
    "    ## append new results and save to file\n",
    "    previous_results.extend(results['businesses'])\n",
    "    \n",
    "    # display(previous_results)\n",
    "    with open(JSON_FILE,'w') as f:\n",
    "        json.dump(previous_results,f)\n",
    "    \n",
    "    time.sleep(.2)"
   ]
  },
  {
   "cell_type": "code",
   "execution_count": 62,
   "id": "c64c62f6-4cb5-4fb9-9131-02cd5fe391f9",
   "metadata": {},
   "outputs": [
    {
     "data": {
      "text/html": [
       "<div>\n",
       "<style scoped>\n",
       "    .dataframe tbody tr th:only-of-type {\n",
       "        vertical-align: middle;\n",
       "    }\n",
       "\n",
       "    .dataframe tbody tr th {\n",
       "        vertical-align: top;\n",
       "    }\n",
       "\n",
       "    .dataframe thead th {\n",
       "        text-align: right;\n",
       "    }\n",
       "</style>\n",
       "<table border=\"1\" class=\"dataframe\">\n",
       "  <thead>\n",
       "    <tr style=\"text-align: right;\">\n",
       "      <th></th>\n",
       "      <th>id</th>\n",
       "      <th>alias</th>\n",
       "      <th>name</th>\n",
       "      <th>image_url</th>\n",
       "      <th>is_closed</th>\n",
       "      <th>url</th>\n",
       "      <th>review_count</th>\n",
       "      <th>categories</th>\n",
       "      <th>rating</th>\n",
       "      <th>coordinates</th>\n",
       "      <th>transactions</th>\n",
       "      <th>price</th>\n",
       "      <th>location</th>\n",
       "      <th>phone</th>\n",
       "      <th>display_phone</th>\n",
       "      <th>distance</th>\n",
       "    </tr>\n",
       "  </thead>\n",
       "  <tbody>\n",
       "    <tr>\n",
       "      <th>0</th>\n",
       "      <td>ysqgdbSrezXgVwER2kQWKA</td>\n",
       "      <td>julianas-brooklyn-3</td>\n",
       "      <td>Juliana's</td>\n",
       "      <td>https://s3-media2.fl.yelpcdn.com/bphoto/od36nF...</td>\n",
       "      <td>False</td>\n",
       "      <td>https://www.yelp.com/biz/julianas-brooklyn-3?a...</td>\n",
       "      <td>2697</td>\n",
       "      <td>[{'alias': 'pizza', 'title': 'Pizza'}]</td>\n",
       "      <td>4.5</td>\n",
       "      <td>{'latitude': 40.70274718768062, 'longitude': -...</td>\n",
       "      <td>[delivery]</td>\n",
       "      <td>$$</td>\n",
       "      <td>{'address1': '19 Old Fulton St', 'address2': '...</td>\n",
       "      <td>+17185966700</td>\n",
       "      <td>(718) 596-6700</td>\n",
       "      <td>308.569844</td>\n",
       "    </tr>\n",
       "    <tr>\n",
       "      <th>1</th>\n",
       "      <td>zj8Lq1T8KIC5zwFief15jg</td>\n",
       "      <td>prince-street-pizza-new-york-2</td>\n",
       "      <td>Prince Street Pizza</td>\n",
       "      <td>https://s3-media4.fl.yelpcdn.com/bphoto/PfI8oV...</td>\n",
       "      <td>False</td>\n",
       "      <td>https://www.yelp.com/biz/prince-street-pizza-n...</td>\n",
       "      <td>5043</td>\n",
       "      <td>[{'alias': 'pizza', 'title': 'Pizza'}, {'alias...</td>\n",
       "      <td>4.5</td>\n",
       "      <td>{'latitude': 40.72308755605564, 'longitude': -...</td>\n",
       "      <td>[pickup, delivery]</td>\n",
       "      <td>$</td>\n",
       "      <td>{'address1': '27 Prince St', 'address2': None,...</td>\n",
       "      <td>+12129664100</td>\n",
       "      <td>(212) 966-4100</td>\n",
       "      <td>1961.877142</td>\n",
       "    </tr>\n",
       "    <tr>\n",
       "      <th>2</th>\n",
       "      <td>WG639VkTjmK5dzydd1BBJA</td>\n",
       "      <td>rubirosa-new-york-2</td>\n",
       "      <td>Rubirosa</td>\n",
       "      <td>https://s3-media3.fl.yelpcdn.com/bphoto/l0Phrn...</td>\n",
       "      <td>False</td>\n",
       "      <td>https://www.yelp.com/biz/rubirosa-new-york-2?a...</td>\n",
       "      <td>3164</td>\n",
       "      <td>[{'alias': 'italian', 'title': 'Italian'}, {'a...</td>\n",
       "      <td>4.5</td>\n",
       "      <td>{'latitude': 40.722766, 'longitude': -73.996233}</td>\n",
       "      <td>[pickup]</td>\n",
       "      <td>$$</td>\n",
       "      <td>{'address1': '235 Mulberry St', 'address2': ''...</td>\n",
       "      <td>+12129650500</td>\n",
       "      <td>(212) 965-0500</td>\n",
       "      <td>1932.946770</td>\n",
       "    </tr>\n",
       "    <tr>\n",
       "      <th>3</th>\n",
       "      <td>v1DHGRNCH9247WLYoaoA9A</td>\n",
       "      <td>l-industrie-pizzeria-brooklyn</td>\n",
       "      <td>L'industrie Pizzeria</td>\n",
       "      <td>https://s3-media3.fl.yelpcdn.com/bphoto/KKB2Tr...</td>\n",
       "      <td>False</td>\n",
       "      <td>https://www.yelp.com/biz/l-industrie-pizzeria-...</td>\n",
       "      <td>1101</td>\n",
       "      <td>[{'alias': 'pizza', 'title': 'Pizza'}]</td>\n",
       "      <td>4.5</td>\n",
       "      <td>{'latitude': 40.71162, 'longitude': -73.95783}</td>\n",
       "      <td>[delivery]</td>\n",
       "      <td>$</td>\n",
       "      <td>{'address1': '254 S 2nd St', 'address2': '', '...</td>\n",
       "      <td>+17185990002</td>\n",
       "      <td>(718) 599-0002</td>\n",
       "      <td>3145.016041</td>\n",
       "    </tr>\n",
       "    <tr>\n",
       "      <th>4</th>\n",
       "      <td>WIhm0W9197f_rRtDziq5qQ</td>\n",
       "      <td>lombardis-pizza-new-york-4</td>\n",
       "      <td>Lombardi's Pizza</td>\n",
       "      <td>https://s3-media1.fl.yelpcdn.com/bphoto/lBq1IB...</td>\n",
       "      <td>False</td>\n",
       "      <td>https://www.yelp.com/biz/lombardis-pizza-new-y...</td>\n",
       "      <td>6609</td>\n",
       "      <td>[{'alias': 'pizza', 'title': 'Pizza'}]</td>\n",
       "      <td>4.0</td>\n",
       "      <td>{'latitude': 40.7215934960083, 'longitude': -7...</td>\n",
       "      <td>[pickup, delivery]</td>\n",
       "      <td>$$</td>\n",
       "      <td>{'address1': '32 Spring St', 'address2': '', '...</td>\n",
       "      <td>+12129417994</td>\n",
       "      <td>(212) 941-7994</td>\n",
       "      <td>1798.995978</td>\n",
       "    </tr>\n",
       "  </tbody>\n",
       "</table>\n",
       "</div>"
      ],
      "text/plain": [
       "                       id                           alias  \\\n",
       "0  ysqgdbSrezXgVwER2kQWKA             julianas-brooklyn-3   \n",
       "1  zj8Lq1T8KIC5zwFief15jg  prince-street-pizza-new-york-2   \n",
       "2  WG639VkTjmK5dzydd1BBJA             rubirosa-new-york-2   \n",
       "3  v1DHGRNCH9247WLYoaoA9A   l-industrie-pizzeria-brooklyn   \n",
       "4  WIhm0W9197f_rRtDziq5qQ      lombardis-pizza-new-york-4   \n",
       "\n",
       "                   name                                          image_url  \\\n",
       "0             Juliana's  https://s3-media2.fl.yelpcdn.com/bphoto/od36nF...   \n",
       "1   Prince Street Pizza  https://s3-media4.fl.yelpcdn.com/bphoto/PfI8oV...   \n",
       "2              Rubirosa  https://s3-media3.fl.yelpcdn.com/bphoto/l0Phrn...   \n",
       "3  L'industrie Pizzeria  https://s3-media3.fl.yelpcdn.com/bphoto/KKB2Tr...   \n",
       "4      Lombardi's Pizza  https://s3-media1.fl.yelpcdn.com/bphoto/lBq1IB...   \n",
       "\n",
       "   is_closed                                                url  review_count  \\\n",
       "0      False  https://www.yelp.com/biz/julianas-brooklyn-3?a...          2697   \n",
       "1      False  https://www.yelp.com/biz/prince-street-pizza-n...          5043   \n",
       "2      False  https://www.yelp.com/biz/rubirosa-new-york-2?a...          3164   \n",
       "3      False  https://www.yelp.com/biz/l-industrie-pizzeria-...          1101   \n",
       "4      False  https://www.yelp.com/biz/lombardis-pizza-new-y...          6609   \n",
       "\n",
       "                                          categories  rating  \\\n",
       "0             [{'alias': 'pizza', 'title': 'Pizza'}]     4.5   \n",
       "1  [{'alias': 'pizza', 'title': 'Pizza'}, {'alias...     4.5   \n",
       "2  [{'alias': 'italian', 'title': 'Italian'}, {'a...     4.5   \n",
       "3             [{'alias': 'pizza', 'title': 'Pizza'}]     4.5   \n",
       "4             [{'alias': 'pizza', 'title': 'Pizza'}]     4.0   \n",
       "\n",
       "                                         coordinates        transactions  \\\n",
       "0  {'latitude': 40.70274718768062, 'longitude': -...          [delivery]   \n",
       "1  {'latitude': 40.72308755605564, 'longitude': -...  [pickup, delivery]   \n",
       "2   {'latitude': 40.722766, 'longitude': -73.996233}            [pickup]   \n",
       "3     {'latitude': 40.71162, 'longitude': -73.95783}          [delivery]   \n",
       "4  {'latitude': 40.7215934960083, 'longitude': -7...  [pickup, delivery]   \n",
       "\n",
       "  price                                           location         phone  \\\n",
       "0    $$  {'address1': '19 Old Fulton St', 'address2': '...  +17185966700   \n",
       "1     $  {'address1': '27 Prince St', 'address2': None,...  +12129664100   \n",
       "2    $$  {'address1': '235 Mulberry St', 'address2': ''...  +12129650500   \n",
       "3     $  {'address1': '254 S 2nd St', 'address2': '', '...  +17185990002   \n",
       "4    $$  {'address1': '32 Spring St', 'address2': '', '...  +12129417994   \n",
       "\n",
       "    display_phone     distance  \n",
       "0  (718) 596-6700   308.569844  \n",
       "1  (212) 966-4100  1961.877142  \n",
       "2  (212) 965-0500  1932.946770  \n",
       "3  (718) 599-0002  3145.016041  \n",
       "4  (212) 941-7994  1798.995978  "
      ]
     },
     "metadata": {},
     "output_type": "display_data"
    },
    {
     "data": {
      "text/html": [
       "<div>\n",
       "<style scoped>\n",
       "    .dataframe tbody tr th:only-of-type {\n",
       "        vertical-align: middle;\n",
       "    }\n",
       "\n",
       "    .dataframe tbody tr th {\n",
       "        vertical-align: top;\n",
       "    }\n",
       "\n",
       "    .dataframe thead th {\n",
       "        text-align: right;\n",
       "    }\n",
       "</style>\n",
       "<table border=\"1\" class=\"dataframe\">\n",
       "  <thead>\n",
       "    <tr style=\"text-align: right;\">\n",
       "      <th></th>\n",
       "      <th>id</th>\n",
       "      <th>alias</th>\n",
       "      <th>name</th>\n",
       "      <th>image_url</th>\n",
       "      <th>is_closed</th>\n",
       "      <th>url</th>\n",
       "      <th>review_count</th>\n",
       "      <th>categories</th>\n",
       "      <th>rating</th>\n",
       "      <th>coordinates</th>\n",
       "      <th>transactions</th>\n",
       "      <th>price</th>\n",
       "      <th>location</th>\n",
       "      <th>phone</th>\n",
       "      <th>display_phone</th>\n",
       "      <th>distance</th>\n",
       "    </tr>\n",
       "  </thead>\n",
       "  <tbody>\n",
       "    <tr>\n",
       "      <th>995</th>\n",
       "      <td>kQuTJxm0KAX1AsS46vhC_g</td>\n",
       "      <td>barbuto-new-york-2</td>\n",
       "      <td>Barbuto</td>\n",
       "      <td>https://s3-media1.fl.yelpcdn.com/bphoto/RQLZ4P...</td>\n",
       "      <td>False</td>\n",
       "      <td>https://www.yelp.com/biz/barbuto-new-york-2?ad...</td>\n",
       "      <td>112</td>\n",
       "      <td>[{'alias': 'italian', 'title': 'Italian'}, {'a...</td>\n",
       "      <td>4.0</td>\n",
       "      <td>{'latitude': 40.73885, 'longitude': -74.00932}</td>\n",
       "      <td>[]</td>\n",
       "      <td>NaN</td>\n",
       "      <td>{'address1': '113 Horatio St', 'address2': '',...</td>\n",
       "      <td>+12129249700</td>\n",
       "      <td>(212) 924-9700</td>\n",
       "      <td>3929.235073</td>\n",
       "    </tr>\n",
       "    <tr>\n",
       "      <th>996</th>\n",
       "      <td>Y8Z-XajYEcfeVnhzlyey-A</td>\n",
       "      <td>caterinas-pizzeria-brooklyn</td>\n",
       "      <td>Caterinas Pizzeria</td>\n",
       "      <td>https://s3-media1.fl.yelpcdn.com/bphoto/re8ONW...</td>\n",
       "      <td>False</td>\n",
       "      <td>https://www.yelp.com/biz/caterinas-pizzeria-br...</td>\n",
       "      <td>17</td>\n",
       "      <td>[{'alias': 'pizza', 'title': 'Pizza'}, {'alias...</td>\n",
       "      <td>4.0</td>\n",
       "      <td>{'latitude': 40.66653, 'longitude': -73.883445}</td>\n",
       "      <td>[delivery, pickup]</td>\n",
       "      <td>NaN</td>\n",
       "      <td>{'address1': '907 Livonia Ave', 'address2': ''...</td>\n",
       "      <td>+17183855305</td>\n",
       "      <td>(718) 385-5305</td>\n",
       "      <td>10298.692965</td>\n",
       "    </tr>\n",
       "    <tr>\n",
       "      <th>997</th>\n",
       "      <td>YVAxCtZ4I8ybFK9faZCiSw</td>\n",
       "      <td>tony-boloney-s-jersey-city-jersey-city</td>\n",
       "      <td>Tony Boloney’s Jersey City</td>\n",
       "      <td>https://s3-media4.fl.yelpcdn.com/bphoto/U4SmpB...</td>\n",
       "      <td>False</td>\n",
       "      <td>https://www.yelp.com/biz/tony-boloney-s-jersey...</td>\n",
       "      <td>205</td>\n",
       "      <td>[{'alias': 'pizza', 'title': 'Pizza'}, {'alias...</td>\n",
       "      <td>3.5</td>\n",
       "      <td>{'latitude': 40.72142, 'longitude': -74.04288}</td>\n",
       "      <td>[delivery, pickup]</td>\n",
       "      <td>NaN</td>\n",
       "      <td>{'address1': '363 Grove St', 'address2': '', '...</td>\n",
       "      <td>+12012750629</td>\n",
       "      <td>(201) 275-0629</td>\n",
       "      <td>4463.919111</td>\n",
       "    </tr>\n",
       "    <tr>\n",
       "      <th>998</th>\n",
       "      <td>uMp1rMlKElNHRtElSeVkrg</td>\n",
       "      <td>river-edge-pizza-kitchen-river-edge-4</td>\n",
       "      <td>River Edge Pizza Kitchen</td>\n",
       "      <td>https://s3-media3.fl.yelpcdn.com/bphoto/QluvEf...</td>\n",
       "      <td>False</td>\n",
       "      <td>https://www.yelp.com/biz/river-edge-pizza-kitc...</td>\n",
       "      <td>13</td>\n",
       "      <td>[{'alias': 'gluten_free', 'title': 'Gluten-Fre...</td>\n",
       "      <td>4.5</td>\n",
       "      <td>{'latitude': 40.9364581, 'longitude': -74.0307...</td>\n",
       "      <td>[delivery, pickup]</td>\n",
       "      <td>NaN</td>\n",
       "      <td>{'address1': '830 Kinderkamack Rd', 'address2'...</td>\n",
       "      <td>+12012654900</td>\n",
       "      <td>(201) 265-4900</td>\n",
       "      <td>25870.201026</td>\n",
       "    </tr>\n",
       "    <tr>\n",
       "      <th>999</th>\n",
       "      <td>SaYTVG7wHCMDBofHCgXPaA</td>\n",
       "      <td>dutch-freds-new-york-2</td>\n",
       "      <td>Dutch Freds</td>\n",
       "      <td>https://s3-media2.fl.yelpcdn.com/bphoto/312T_G...</td>\n",
       "      <td>False</td>\n",
       "      <td>https://www.yelp.com/biz/dutch-freds-new-york-...</td>\n",
       "      <td>2028</td>\n",
       "      <td>[{'alias': 'cocktailbars', 'title': 'Cocktail ...</td>\n",
       "      <td>4.5</td>\n",
       "      <td>{'latitude': 40.760835, 'longitude': -73.987823}</td>\n",
       "      <td>[delivery, pickup]</td>\n",
       "      <td>$$</td>\n",
       "      <td>{'address1': '307 W 47th St', 'address2': None...</td>\n",
       "      <td>+16469186923</td>\n",
       "      <td>(646) 918-6923</td>\n",
       "      <td>6182.299430</td>\n",
       "    </tr>\n",
       "  </tbody>\n",
       "</table>\n",
       "</div>"
      ],
      "text/plain": [
       "                         id                                   alias  \\\n",
       "995  kQuTJxm0KAX1AsS46vhC_g                      barbuto-new-york-2   \n",
       "996  Y8Z-XajYEcfeVnhzlyey-A             caterinas-pizzeria-brooklyn   \n",
       "997  YVAxCtZ4I8ybFK9faZCiSw  tony-boloney-s-jersey-city-jersey-city   \n",
       "998  uMp1rMlKElNHRtElSeVkrg   river-edge-pizza-kitchen-river-edge-4   \n",
       "999  SaYTVG7wHCMDBofHCgXPaA                  dutch-freds-new-york-2   \n",
       "\n",
       "                           name  \\\n",
       "995                     Barbuto   \n",
       "996          Caterinas Pizzeria   \n",
       "997  Tony Boloney’s Jersey City   \n",
       "998    River Edge Pizza Kitchen   \n",
       "999                 Dutch Freds   \n",
       "\n",
       "                                             image_url  is_closed  \\\n",
       "995  https://s3-media1.fl.yelpcdn.com/bphoto/RQLZ4P...      False   \n",
       "996  https://s3-media1.fl.yelpcdn.com/bphoto/re8ONW...      False   \n",
       "997  https://s3-media4.fl.yelpcdn.com/bphoto/U4SmpB...      False   \n",
       "998  https://s3-media3.fl.yelpcdn.com/bphoto/QluvEf...      False   \n",
       "999  https://s3-media2.fl.yelpcdn.com/bphoto/312T_G...      False   \n",
       "\n",
       "                                                   url  review_count  \\\n",
       "995  https://www.yelp.com/biz/barbuto-new-york-2?ad...           112   \n",
       "996  https://www.yelp.com/biz/caterinas-pizzeria-br...            17   \n",
       "997  https://www.yelp.com/biz/tony-boloney-s-jersey...           205   \n",
       "998  https://www.yelp.com/biz/river-edge-pizza-kitc...            13   \n",
       "999  https://www.yelp.com/biz/dutch-freds-new-york-...          2028   \n",
       "\n",
       "                                            categories  rating  \\\n",
       "995  [{'alias': 'italian', 'title': 'Italian'}, {'a...     4.0   \n",
       "996  [{'alias': 'pizza', 'title': 'Pizza'}, {'alias...     4.0   \n",
       "997  [{'alias': 'pizza', 'title': 'Pizza'}, {'alias...     3.5   \n",
       "998  [{'alias': 'gluten_free', 'title': 'Gluten-Fre...     4.5   \n",
       "999  [{'alias': 'cocktailbars', 'title': 'Cocktail ...     4.5   \n",
       "\n",
       "                                           coordinates        transactions  \\\n",
       "995     {'latitude': 40.73885, 'longitude': -74.00932}                  []   \n",
       "996    {'latitude': 40.66653, 'longitude': -73.883445}  [delivery, pickup]   \n",
       "997     {'latitude': 40.72142, 'longitude': -74.04288}  [delivery, pickup]   \n",
       "998  {'latitude': 40.9364581, 'longitude': -74.0307...  [delivery, pickup]   \n",
       "999   {'latitude': 40.760835, 'longitude': -73.987823}  [delivery, pickup]   \n",
       "\n",
       "    price                                           location         phone  \\\n",
       "995   NaN  {'address1': '113 Horatio St', 'address2': '',...  +12129249700   \n",
       "996   NaN  {'address1': '907 Livonia Ave', 'address2': ''...  +17183855305   \n",
       "997   NaN  {'address1': '363 Grove St', 'address2': '', '...  +12012750629   \n",
       "998   NaN  {'address1': '830 Kinderkamack Rd', 'address2'...  +12012654900   \n",
       "999    $$  {'address1': '307 W 47th St', 'address2': None...  +16469186923   \n",
       "\n",
       "      display_phone      distance  \n",
       "995  (212) 924-9700   3929.235073  \n",
       "996  (718) 385-5305  10298.692965  \n",
       "997  (201) 275-0629   4463.919111  \n",
       "998  (201) 265-4900  25870.201026  \n",
       "999  (646) 918-6923   6182.299430  "
      ]
     },
     "metadata": {},
     "output_type": "display_data"
    }
   ],
   "source": [
    "# load final results into df\n",
    "final_df = pd.read_json(JSON_FILE)\n",
    "display(final_df.head(), final_df.tail())"
   ]
  },
  {
   "cell_type": "code",
   "execution_count": 63,
   "id": "ec666610-6b7b-48a9-a108-3ecf4a5a2b97",
   "metadata": {},
   "outputs": [
    {
     "ename": "TypeError",
     "evalue": "unhashable type: 'list'",
     "output_type": "error",
     "traceback": [
      "\u001b[1;31m---------------------------------------------------------------------------\u001b[0m",
      "\u001b[1;31mTypeError\u001b[0m                                 Traceback (most recent call last)",
      "Cell \u001b[1;32mIn[63], line 2\u001b[0m\n\u001b[0;32m      1\u001b[0m \u001b[38;5;66;03m# check for duplicate results\u001b[39;00m\n\u001b[1;32m----> 2\u001b[0m \u001b[43mfinal_df\u001b[49m\u001b[38;5;241;43m.\u001b[39;49m\u001b[43mduplicated\u001b[49m\u001b[43m(\u001b[49m\u001b[43m)\u001b[49m\u001b[38;5;241m.\u001b[39msum()\n",
      "File \u001b[1;32m~\\anaconda3\\envs\\dojo-env\\lib\\site-packages\\pandas\\core\\frame.py:6814\u001b[0m, in \u001b[0;36mDataFrame.duplicated\u001b[1;34m(self, subset, keep)\u001b[0m\n\u001b[0;32m   6812\u001b[0m \u001b[38;5;28;01melse\u001b[39;00m:\n\u001b[0;32m   6813\u001b[0m     vals \u001b[38;5;241m=\u001b[39m (col\u001b[38;5;241m.\u001b[39mvalues \u001b[38;5;28;01mfor\u001b[39;00m name, col \u001b[38;5;129;01min\u001b[39;00m \u001b[38;5;28mself\u001b[39m\u001b[38;5;241m.\u001b[39mitems() \u001b[38;5;28;01mif\u001b[39;00m name \u001b[38;5;129;01min\u001b[39;00m subset)\n\u001b[1;32m-> 6814\u001b[0m     labels, shape \u001b[38;5;241m=\u001b[39m \u001b[38;5;28mmap\u001b[39m(\u001b[38;5;28mlist\u001b[39m, \u001b[38;5;28;43mzip\u001b[39;49m\u001b[43m(\u001b[49m\u001b[38;5;241;43m*\u001b[39;49m\u001b[38;5;28;43mmap\u001b[39;49m\u001b[43m(\u001b[49m\u001b[43mf\u001b[49m\u001b[43m,\u001b[49m\u001b[43m \u001b[49m\u001b[43mvals\u001b[49m\u001b[43m)\u001b[49m\u001b[43m)\u001b[49m)\n\u001b[0;32m   6816\u001b[0m     ids \u001b[38;5;241m=\u001b[39m get_group_index(\n\u001b[0;32m   6817\u001b[0m         labels,\n\u001b[0;32m   6818\u001b[0m         \u001b[38;5;66;03m# error: Argument 1 to \"tuple\" has incompatible type \"List[_T]\";\u001b[39;00m\n\u001b[1;32m   (...)\u001b[0m\n\u001b[0;32m   6822\u001b[0m         xnull\u001b[38;5;241m=\u001b[39m\u001b[38;5;28;01mFalse\u001b[39;00m,\n\u001b[0;32m   6823\u001b[0m     )\n\u001b[0;32m   6824\u001b[0m     result \u001b[38;5;241m=\u001b[39m \u001b[38;5;28mself\u001b[39m\u001b[38;5;241m.\u001b[39m_constructor_sliced(duplicated(ids, keep), index\u001b[38;5;241m=\u001b[39m\u001b[38;5;28mself\u001b[39m\u001b[38;5;241m.\u001b[39mindex)\n",
      "File \u001b[1;32m~\\anaconda3\\envs\\dojo-env\\lib\\site-packages\\pandas\\core\\frame.py:6782\u001b[0m, in \u001b[0;36mDataFrame.duplicated.<locals>.f\u001b[1;34m(vals)\u001b[0m\n\u001b[0;32m   6781\u001b[0m \u001b[38;5;28;01mdef\u001b[39;00m \u001b[38;5;21mf\u001b[39m(vals) \u001b[38;5;241m-\u001b[39m\u001b[38;5;241m>\u001b[39m \u001b[38;5;28mtuple\u001b[39m[np\u001b[38;5;241m.\u001b[39mndarray, \u001b[38;5;28mint\u001b[39m]:\n\u001b[1;32m-> 6782\u001b[0m     labels, shape \u001b[38;5;241m=\u001b[39m \u001b[43malgorithms\u001b[49m\u001b[38;5;241;43m.\u001b[39;49m\u001b[43mfactorize\u001b[49m\u001b[43m(\u001b[49m\u001b[43mvals\u001b[49m\u001b[43m,\u001b[49m\u001b[43m \u001b[49m\u001b[43msize_hint\u001b[49m\u001b[38;5;241;43m=\u001b[39;49m\u001b[38;5;28;43mlen\u001b[39;49m\u001b[43m(\u001b[49m\u001b[38;5;28;43mself\u001b[39;49m\u001b[43m)\u001b[49m\u001b[43m)\u001b[49m\n\u001b[0;32m   6783\u001b[0m     \u001b[38;5;28;01mreturn\u001b[39;00m labels\u001b[38;5;241m.\u001b[39mastype(\u001b[38;5;124m\"\u001b[39m\u001b[38;5;124mi8\u001b[39m\u001b[38;5;124m\"\u001b[39m, copy\u001b[38;5;241m=\u001b[39m\u001b[38;5;28;01mFalse\u001b[39;00m), \u001b[38;5;28mlen\u001b[39m(shape)\n",
      "File \u001b[1;32m~\\anaconda3\\envs\\dojo-env\\lib\\site-packages\\pandas\\core\\algorithms.py:822\u001b[0m, in \u001b[0;36mfactorize\u001b[1;34m(values, sort, na_sentinel, use_na_sentinel, size_hint)\u001b[0m\n\u001b[0;32m    819\u001b[0m             \u001b[38;5;66;03m# Don't modify (potentially user-provided) array\u001b[39;00m\n\u001b[0;32m    820\u001b[0m             values \u001b[38;5;241m=\u001b[39m np\u001b[38;5;241m.\u001b[39mwhere(null_mask, na_value, values)\n\u001b[1;32m--> 822\u001b[0m     codes, uniques \u001b[38;5;241m=\u001b[39m \u001b[43mfactorize_array\u001b[49m\u001b[43m(\u001b[49m\n\u001b[0;32m    823\u001b[0m \u001b[43m        \u001b[49m\u001b[43mvalues\u001b[49m\u001b[43m,\u001b[49m\n\u001b[0;32m    824\u001b[0m \u001b[43m        \u001b[49m\u001b[43mna_sentinel\u001b[49m\u001b[38;5;241;43m=\u001b[39;49m\u001b[43mna_sentinel_arg\u001b[49m\u001b[43m,\u001b[49m\n\u001b[0;32m    825\u001b[0m \u001b[43m        \u001b[49m\u001b[43msize_hint\u001b[49m\u001b[38;5;241;43m=\u001b[39;49m\u001b[43msize_hint\u001b[49m\u001b[43m,\u001b[49m\n\u001b[0;32m    826\u001b[0m \u001b[43m    \u001b[49m\u001b[43m)\u001b[49m\n\u001b[0;32m    828\u001b[0m \u001b[38;5;28;01mif\u001b[39;00m sort \u001b[38;5;129;01mand\u001b[39;00m \u001b[38;5;28mlen\u001b[39m(uniques) \u001b[38;5;241m>\u001b[39m \u001b[38;5;241m0\u001b[39m:\n\u001b[0;32m    829\u001b[0m     \u001b[38;5;28;01mif\u001b[39;00m na_sentinel \u001b[38;5;129;01mis\u001b[39;00m \u001b[38;5;28;01mNone\u001b[39;00m:\n\u001b[0;32m    830\u001b[0m         \u001b[38;5;66;03m# TODO: Can remove when na_sentinel=na_sentinel as in TODO above\u001b[39;00m\n",
      "File \u001b[1;32m~\\anaconda3\\envs\\dojo-env\\lib\\site-packages\\pandas\\core\\algorithms.py:578\u001b[0m, in \u001b[0;36mfactorize_array\u001b[1;34m(values, na_sentinel, size_hint, na_value, mask)\u001b[0m\n\u001b[0;32m    575\u001b[0m hash_klass, values \u001b[38;5;241m=\u001b[39m _get_hashtable_algo(values)\n\u001b[0;32m    577\u001b[0m table \u001b[38;5;241m=\u001b[39m hash_klass(size_hint \u001b[38;5;129;01mor\u001b[39;00m \u001b[38;5;28mlen\u001b[39m(values))\n\u001b[1;32m--> 578\u001b[0m uniques, codes \u001b[38;5;241m=\u001b[39m \u001b[43mtable\u001b[49m\u001b[38;5;241;43m.\u001b[39;49m\u001b[43mfactorize\u001b[49m\u001b[43m(\u001b[49m\n\u001b[0;32m    579\u001b[0m \u001b[43m    \u001b[49m\u001b[43mvalues\u001b[49m\u001b[43m,\u001b[49m\n\u001b[0;32m    580\u001b[0m \u001b[43m    \u001b[49m\u001b[43mna_sentinel\u001b[49m\u001b[38;5;241;43m=\u001b[39;49m\u001b[43mna_sentinel\u001b[49m\u001b[43m,\u001b[49m\n\u001b[0;32m    581\u001b[0m \u001b[43m    \u001b[49m\u001b[43mna_value\u001b[49m\u001b[38;5;241;43m=\u001b[39;49m\u001b[43mna_value\u001b[49m\u001b[43m,\u001b[49m\n\u001b[0;32m    582\u001b[0m \u001b[43m    \u001b[49m\u001b[43mmask\u001b[49m\u001b[38;5;241;43m=\u001b[39;49m\u001b[43mmask\u001b[49m\u001b[43m,\u001b[49m\n\u001b[0;32m    583\u001b[0m \u001b[43m    \u001b[49m\u001b[43mignore_na\u001b[49m\u001b[38;5;241;43m=\u001b[39;49m\u001b[43mignore_na\u001b[49m\u001b[43m,\u001b[49m\n\u001b[0;32m    584\u001b[0m \u001b[43m\u001b[49m\u001b[43m)\u001b[49m\n\u001b[0;32m    586\u001b[0m \u001b[38;5;66;03m# re-cast e.g. i8->dt64/td64, uint8->bool\u001b[39;00m\n\u001b[0;32m    587\u001b[0m uniques \u001b[38;5;241m=\u001b[39m _reconstruct_data(uniques, original\u001b[38;5;241m.\u001b[39mdtype, original)\n",
      "File \u001b[1;32mpandas\\_libs\\hashtable_class_helper.pxi:5943\u001b[0m, in \u001b[0;36mpandas._libs.hashtable.PyObjectHashTable.factorize\u001b[1;34m()\u001b[0m\n",
      "File \u001b[1;32mpandas\\_libs\\hashtable_class_helper.pxi:5857\u001b[0m, in \u001b[0;36mpandas._libs.hashtable.PyObjectHashTable._unique\u001b[1;34m()\u001b[0m\n",
      "\u001b[1;31mTypeError\u001b[0m: unhashable type: 'list'"
     ]
    }
   ],
   "source": [
    "# check for duplicate results\n",
    "final_df.duplicated().sum()"
   ]
  },
  {
   "cell_type": "code",
   "execution_count": 64,
   "id": "e5e77120-6f25-4a8d-8eef-06da661ce975",
   "metadata": {},
   "outputs": [
    {
     "data": {
      "text/plain": [
       "131"
      ]
     },
     "execution_count": 64,
     "metadata": {},
     "output_type": "execute_result"
    }
   ],
   "source": [
    "# check for duplicate ID's \n",
    "final_df.duplicated(subset='id').sum()"
   ]
  },
  {
   "cell_type": "code",
   "execution_count": 65,
   "id": "58508b17-0322-4746-a633-ff14e1081ee8",
   "metadata": {},
   "outputs": [
    {
     "data": {
      "text/plain": [
       "0"
      ]
     },
     "execution_count": 65,
     "metadata": {},
     "output_type": "execute_result"
    }
   ],
   "source": [
    "## Drop duplicate ids and confirm there are no more duplicates\n",
    "final_df = final_df.drop_duplicates(subset='id')\n",
    "final_df.duplicated(subset='id').sum()"
   ]
  },
  {
   "cell_type": "code",
   "execution_count": 66,
   "id": "feb62265-2016-474d-9bfe-3fe6fd7f7460",
   "metadata": {},
   "outputs": [],
   "source": [
    "# save the final results to a compressed csv\n",
    "final_df.to_csv('Data/final_results_NY_pizza.csv.gz', compression='gzip',index=False)"
   ]
  }
 ],
 "metadata": {
  "kernelspec": {
   "display_name": "Python 3 (ipykernel)",
   "language": "python",
   "name": "python3"
  },
  "language_info": {
   "codemirror_mode": {
    "name": "ipython",
    "version": 3
   },
   "file_extension": ".py",
   "mimetype": "text/x-python",
   "name": "python",
   "nbconvert_exporter": "python",
   "pygments_lexer": "ipython3",
   "version": "3.10.10"
  },
  "widgets": {
   "application/vnd.jupyter.widget-state+json": {
    "state": {
     "010b5ce1dbc447299cde503f548fde63": {
      "model_module": "@jupyter-widgets/controls",
      "model_module_version": "2.0.0",
      "model_name": "HBoxModel",
      "state": {
       "children": [
        "IPY_MODEL_5cd6f125044040daad160195fe12920f",
        "IPY_MODEL_c90de3fb06e34a93adcb6a20232fdd6c",
        "IPY_MODEL_7dd1c85c6ad548a294ff3685cc2b4dd7"
       ],
       "layout": "IPY_MODEL_aa0d8125cb174126906f4c572be2c5cb"
      }
     },
     "0260a95959e448c7ad40aa5d9de306cc": {
      "model_module": "@jupyter-widgets/controls",
      "model_module_version": "2.0.0",
      "model_name": "ProgressStyleModel",
      "state": {
       "description_width": ""
      }
     },
     "13ef2c244ef74a3890efe3309f343b04": {
      "model_module": "@jupyter-widgets/base",
      "model_module_version": "2.0.0",
      "model_name": "LayoutModel",
      "state": {}
     },
     "157ce139421b4ec1b03c59917a1e1ebe": {
      "model_module": "@jupyter-widgets/controls",
      "model_module_version": "2.0.0",
      "model_name": "HTMLStyleModel",
      "state": {
       "description_width": "",
       "font_size": null,
       "text_color": null
      }
     },
     "1ba89542acc442559738c7163388ef9d": {
      "model_module": "@jupyter-widgets/controls",
      "model_module_version": "2.0.0",
      "model_name": "HTMLModel",
      "state": {
       "layout": "IPY_MODEL_7c740c97aa4c4859964d31c7613516fc",
       "style": "IPY_MODEL_f8907715323b4e37ab3e54df84b0ccd1",
       "value": "100%"
      }
     },
     "27a4f6380cb444a693b60ff53b77a74c": {
      "model_module": "@jupyter-widgets/controls",
      "model_module_version": "2.0.0",
      "model_name": "HTMLModel",
      "state": {
       "layout": "IPY_MODEL_94d0d11ddbc744f3b906c73bf8458d1f",
       "style": "IPY_MODEL_157ce139421b4ec1b03c59917a1e1ebe",
       "value": " 620/620 [02:07&lt;00:00,  4.82it/s]"
      }
     },
     "2ab3ff2cd4ba45ee9a04c79f089c7571": {
      "model_module": "@jupyter-widgets/controls",
      "model_module_version": "2.0.0",
      "model_name": "FloatProgressModel",
      "state": {
       "bar_style": "danger",
       "layout": "IPY_MODEL_35ed29ff5b60499fb37d54971ed38ddc",
       "max": 620,
       "style": "IPY_MODEL_9abbafcd93204ee09e7316986ffaa826"
      }
     },
     "35ed29ff5b60499fb37d54971ed38ddc": {
      "model_module": "@jupyter-widgets/base",
      "model_module_version": "2.0.0",
      "model_name": "LayoutModel",
      "state": {}
     },
     "4446b745008c40eb99a967f30accec48": {
      "model_module": "@jupyter-widgets/base",
      "model_module_version": "2.0.0",
      "model_name": "LayoutModel",
      "state": {}
     },
     "47d669dec38a4e2d893e183f88c0764e": {
      "model_module": "@jupyter-widgets/controls",
      "model_module_version": "2.0.0",
      "model_name": "HBoxModel",
      "state": {
       "children": [
        "IPY_MODEL_1ba89542acc442559738c7163388ef9d",
        "IPY_MODEL_77d6d95b6b2843b1b3c1978289eb1372",
        "IPY_MODEL_27a4f6380cb444a693b60ff53b77a74c"
       ],
       "layout": "IPY_MODEL_901713a6da1d49ca9cc65544ae82bd37"
      }
     },
     "5042a4efc8914e8b9154a35c36dbaa5a": {
      "model_module": "@jupyter-widgets/base",
      "model_module_version": "2.0.0",
      "model_name": "LayoutModel",
      "state": {}
     },
     "54b64531b92c489d8b281ddc2d4838af": {
      "model_module": "@jupyter-widgets/base",
      "model_module_version": "2.0.0",
      "model_name": "LayoutModel",
      "state": {}
     },
     "569dfc6eac434754a93595e08266348a": {
      "model_module": "@jupyter-widgets/base",
      "model_module_version": "2.0.0",
      "model_name": "LayoutModel",
      "state": {}
     },
     "583f3467206149d1a861a5058a929971": {
      "model_module": "@jupyter-widgets/controls",
      "model_module_version": "2.0.0",
      "model_name": "HBoxModel",
      "state": {
       "children": [
        "IPY_MODEL_b50ad576ad984d38af9177aa77a169a8",
        "IPY_MODEL_b4f061f59ba34035bdf6965406931ee4",
        "IPY_MODEL_cbf2049c153245a68ff50ed64fceec4b"
       ],
       "layout": "IPY_MODEL_b519a65271c6423287f0f1cb825ca8dd"
      }
     },
     "5cd6f125044040daad160195fe12920f": {
      "model_module": "@jupyter-widgets/controls",
      "model_module_version": "2.0.0",
      "model_name": "HTMLModel",
      "state": {
       "layout": "IPY_MODEL_569dfc6eac434754a93595e08266348a",
       "style": "IPY_MODEL_6ec05e022550487d88c12b17f6ba6e98",
       "value": "  8%"
      }
     },
     "5dee1d8a094a4cbbb82554a0414b7ce7": {
      "model_module": "@jupyter-widgets/controls",
      "model_module_version": "2.0.0",
      "model_name": "HTMLStyleModel",
      "state": {
       "description_width": "",
       "font_size": null,
       "text_color": null
      }
     },
     "6add687201824d7cba5628c1fd748937": {
      "model_module": "@jupyter-widgets/controls",
      "model_module_version": "2.0.0",
      "model_name": "HTMLModel",
      "state": {
       "layout": "IPY_MODEL_bc9a267dcbd74036acec07cf9896af19",
       "style": "IPY_MODEL_5dee1d8a094a4cbbb82554a0414b7ce7",
       "value": " 0/620 [00:05&lt;?, ?it/s]"
      }
     },
     "6cc8781ad26e4712bed3465667396310": {
      "model_module": "@jupyter-widgets/controls",
      "model_module_version": "2.0.0",
      "model_name": "ProgressStyleModel",
      "state": {
       "description_width": ""
      }
     },
     "6ec05e022550487d88c12b17f6ba6e98": {
      "model_module": "@jupyter-widgets/controls",
      "model_module_version": "2.0.0",
      "model_name": "HTMLStyleModel",
      "state": {
       "description_width": "",
       "font_size": null,
       "text_color": null
      }
     },
     "77d6d95b6b2843b1b3c1978289eb1372": {
      "model_module": "@jupyter-widgets/controls",
      "model_module_version": "2.0.0",
      "model_name": "FloatProgressModel",
      "state": {
       "bar_style": "success",
       "layout": "IPY_MODEL_4446b745008c40eb99a967f30accec48",
       "max": 620,
       "style": "IPY_MODEL_0260a95959e448c7ad40aa5d9de306cc",
       "value": 620
      }
     },
     "781d6a404ebd4098b130558f3ba4d3c9": {
      "model_module": "@jupyter-widgets/base",
      "model_module_version": "2.0.0",
      "model_name": "LayoutModel",
      "state": {}
     },
     "7c740c97aa4c4859964d31c7613516fc": {
      "model_module": "@jupyter-widgets/base",
      "model_module_version": "2.0.0",
      "model_name": "LayoutModel",
      "state": {}
     },
     "7dd1c85c6ad548a294ff3685cc2b4dd7": {
      "model_module": "@jupyter-widgets/controls",
      "model_module_version": "2.0.0",
      "model_name": "HTMLModel",
      "state": {
       "layout": "IPY_MODEL_5042a4efc8914e8b9154a35c36dbaa5a",
       "style": "IPY_MODEL_e33940bdfc1b463aa09c87d6a6c251d0",
       "value": " 49/620 [01:21&lt;18:56,  1.99s/it]"
      }
     },
     "8a512b1540074136a3cf14968aee62c4": {
      "model_module": "@jupyter-widgets/controls",
      "model_module_version": "2.0.0",
      "model_name": "HBoxModel",
      "state": {
       "children": [
        "IPY_MODEL_ad106a57349349d5abbb15385f08480c",
        "IPY_MODEL_2ab3ff2cd4ba45ee9a04c79f089c7571",
        "IPY_MODEL_6add687201824d7cba5628c1fd748937"
       ],
       "layout": "IPY_MODEL_fc043b7a656e4aa18f10d4d02d193425"
      }
     },
     "901713a6da1d49ca9cc65544ae82bd37": {
      "model_module": "@jupyter-widgets/base",
      "model_module_version": "2.0.0",
      "model_name": "LayoutModel",
      "state": {}
     },
     "94d0d11ddbc744f3b906c73bf8458d1f": {
      "model_module": "@jupyter-widgets/base",
      "model_module_version": "2.0.0",
      "model_name": "LayoutModel",
      "state": {}
     },
     "9abbafcd93204ee09e7316986ffaa826": {
      "model_module": "@jupyter-widgets/controls",
      "model_module_version": "2.0.0",
      "model_name": "ProgressStyleModel",
      "state": {
       "description_width": ""
      }
     },
     "a5d539f90ad64423aa1764fad8cbf241": {
      "model_module": "@jupyter-widgets/base",
      "model_module_version": "2.0.0",
      "model_name": "LayoutModel",
      "state": {}
     },
     "a96a7ab906cb4fa89786e72be744b96c": {
      "model_module": "@jupyter-widgets/controls",
      "model_module_version": "2.0.0",
      "model_name": "HTMLStyleModel",
      "state": {
       "description_width": "",
       "font_size": null,
       "text_color": null
      }
     },
     "aa0d8125cb174126906f4c572be2c5cb": {
      "model_module": "@jupyter-widgets/base",
      "model_module_version": "2.0.0",
      "model_name": "LayoutModel",
      "state": {}
     },
     "aa5360997ef9453493b2bf5320d1cd37": {
      "model_module": "@jupyter-widgets/controls",
      "model_module_version": "2.0.0",
      "model_name": "HTMLStyleModel",
      "state": {
       "description_width": "",
       "font_size": null,
       "text_color": null
      }
     },
     "ad106a57349349d5abbb15385f08480c": {
      "model_module": "@jupyter-widgets/controls",
      "model_module_version": "2.0.0",
      "model_name": "HTMLModel",
      "state": {
       "layout": "IPY_MODEL_b813671709ea4a7baf9c1c1d463ee577",
       "style": "IPY_MODEL_aa5360997ef9453493b2bf5320d1cd37",
       "value": "  0%"
      }
     },
     "b4f061f59ba34035bdf6965406931ee4": {
      "model_module": "@jupyter-widgets/controls",
      "model_module_version": "2.0.0",
      "model_name": "FloatProgressModel",
      "state": {
       "bar_style": "danger",
       "layout": "IPY_MODEL_13ef2c244ef74a3890efe3309f343b04",
       "max": 620,
       "style": "IPY_MODEL_6cc8781ad26e4712bed3465667396310",
       "value": 50
      }
     },
     "b50ad576ad984d38af9177aa77a169a8": {
      "model_module": "@jupyter-widgets/controls",
      "model_module_version": "2.0.0",
      "model_name": "HTMLModel",
      "state": {
       "layout": "IPY_MODEL_a5d539f90ad64423aa1764fad8cbf241",
       "style": "IPY_MODEL_a96a7ab906cb4fa89786e72be744b96c",
       "value": "  8%"
      }
     },
     "b519a65271c6423287f0f1cb825ca8dd": {
      "model_module": "@jupyter-widgets/base",
      "model_module_version": "2.0.0",
      "model_name": "LayoutModel",
      "state": {}
     },
     "b813671709ea4a7baf9c1c1d463ee577": {
      "model_module": "@jupyter-widgets/base",
      "model_module_version": "2.0.0",
      "model_name": "LayoutModel",
      "state": {}
     },
     "bc9a267dcbd74036acec07cf9896af19": {
      "model_module": "@jupyter-widgets/base",
      "model_module_version": "2.0.0",
      "model_name": "LayoutModel",
      "state": {}
     },
     "c90de3fb06e34a93adcb6a20232fdd6c": {
      "model_module": "@jupyter-widgets/controls",
      "model_module_version": "2.0.0",
      "model_name": "FloatProgressModel",
      "state": {
       "bar_style": "danger",
       "layout": "IPY_MODEL_781d6a404ebd4098b130558f3ba4d3c9",
       "max": 620,
       "style": "IPY_MODEL_e34fd8e2c5b241e9ab4ab493c39c134b",
       "value": 49
      }
     },
     "cbf2049c153245a68ff50ed64fceec4b": {
      "model_module": "@jupyter-widgets/controls",
      "model_module_version": "2.0.0",
      "model_name": "HTMLModel",
      "state": {
       "layout": "IPY_MODEL_54b64531b92c489d8b281ddc2d4838af",
       "style": "IPY_MODEL_fd38b052706c427f989ff87a685c87ac",
       "value": " 50/620 [01:21&lt;24:02,  2.53s/it]"
      }
     },
     "e33940bdfc1b463aa09c87d6a6c251d0": {
      "model_module": "@jupyter-widgets/controls",
      "model_module_version": "2.0.0",
      "model_name": "HTMLStyleModel",
      "state": {
       "description_width": "",
       "font_size": null,
       "text_color": null
      }
     },
     "e34fd8e2c5b241e9ab4ab493c39c134b": {
      "model_module": "@jupyter-widgets/controls",
      "model_module_version": "2.0.0",
      "model_name": "ProgressStyleModel",
      "state": {
       "description_width": ""
      }
     },
     "f8907715323b4e37ab3e54df84b0ccd1": {
      "model_module": "@jupyter-widgets/controls",
      "model_module_version": "2.0.0",
      "model_name": "HTMLStyleModel",
      "state": {
       "description_width": "",
       "font_size": null,
       "text_color": null
      }
     },
     "fc043b7a656e4aa18f10d4d02d193425": {
      "model_module": "@jupyter-widgets/base",
      "model_module_version": "2.0.0",
      "model_name": "LayoutModel",
      "state": {}
     },
     "fd38b052706c427f989ff87a685c87ac": {
      "model_module": "@jupyter-widgets/controls",
      "model_module_version": "2.0.0",
      "model_name": "HTMLStyleModel",
      "state": {
       "description_width": "",
       "font_size": null,
       "text_color": null
      }
     }
    },
    "version_major": 2,
    "version_minor": 0
   }
  }
 },
 "nbformat": 4,
 "nbformat_minor": 5
}
