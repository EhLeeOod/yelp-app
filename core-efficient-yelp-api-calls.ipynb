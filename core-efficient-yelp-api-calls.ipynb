{
 "cells": [
  {
   "cell_type": "code",
   "execution_count": 1,
   "id": "e6582b18-c5f7-4158-997f-58aa074de18c",
   "metadata": {},
   "outputs": [],
   "source": [
    "# imports\n",
    "import numpy as np\n",
    "import pandas as pd\n",
    "import matplotlib.pyplot as plt\n",
    "import seaborn as sns\n",
    "# Additional Imports\n",
    "import os, json, math, time\n",
    "from yelpapi import YelpAPI\n",
    "from tqdm.notebook import tqdm_notebook"
   ]
  },
  {
   "cell_type": "code",
   "execution_count": 2,
   "id": "2f13b821-4047-4299-aca8-23f6681f0d29",
   "metadata": {},
   "outputs": [],
   "source": [
    "# Load API Credentials\n",
    "with open('.secret/yelp_api.json') as f:\n",
    "    login = json.load(f)\n",
    "# Instantiate YelpAPI Variable\n",
    "yelp_api = YelpAPI(login['api-key'], timeout_s=5.0)"
   ]
  },
  {
   "cell_type": "code",
   "execution_count": 3,
   "id": "ae26f171-430d-4f7f-8da6-667b09819697",
   "metadata": {},
   "outputs": [],
   "source": [
    "# declare variables\n",
    "LOCATION = 'SAN ANTONIO, TX'\n",
    "TERM = 'Pizza'"
   ]
  },
  {
   "cell_type": "code",
   "execution_count": 4,
   "id": "daee3794-5e93-4f12-8a34-2c627a8dff8e",
   "metadata": {},
   "outputs": [
    {
     "data": {
      "text/plain": [
       "'Data/results_in_progress_SAN_ANTONIO_pizza.json'"
      ]
     },
     "execution_count": 4,
     "metadata": {},
     "output_type": "execute_result"
    }
   ],
   "source": [
    "# save json file\n",
    "JSON_FILE = \"Data/results_in_progress_SAN_ANTONIO_pizza.json\"\n",
    "JSON_FILE"
   ]
  },
  {
   "cell_type": "code",
   "execution_count": 5,
   "id": "d5ed7801-293a-4f51-a259-b87d998479fa",
   "metadata": {},
   "outputs": [
    {
     "name": "stdout",
     "output_type": "stream",
     "text": [
      "[i] Data/results_in_progress_SAN_ANTONIO_pizza.json not found. Saving empty list to file.\n"
     ]
    }
   ],
   "source": [
    "## Check if JSON_FILE exists\n",
    "file_exists = os.path.isfile(JSON_FILE)\n",
    "## If it does not exist: \n",
    "if file_exists == False:\n",
    "    \n",
    "    ## CREATE ANY NEEDED FOLDERS\n",
    "    # Get the Folder Name only\n",
    "    folder = os.path.dirname(JSON_FILE)\n",
    "    ## If JSON_FILE included a folder:\n",
    "    if len(folder)>0:\n",
    "        # create the folder\n",
    "        os.makedirs(folder,exist_ok=True)\n",
    "        \n",
    "        \n",
    "    ## INFORM USER AND SAVE EMPTY LIST\n",
    "    print(f'[i] {JSON_FILE} not found. Saving empty list to file.')\n",
    "    \n",
    "    \n",
    "    # save an empty list\n",
    "    with open(JSON_FILE,'w') as f:\n",
    "        json.dump([],f)  \n",
    "# If it exists, inform user\n",
    "else:\n",
    "    print(f\"[i] {JSON_FILE} already exists.\")"
   ]
  },
  {
   "cell_type": "code",
   "execution_count": 6,
   "id": "e72a76a3-73a0-46ef-aee9-438d44f9e7f0",
   "metadata": {},
   "outputs": [
    {
     "name": "stdout",
     "output_type": "stream",
     "text": [
      "- 0 previous results found.\n"
     ]
    }
   ],
   "source": [
    "## Load previous results and use len of results for offset\n",
    "with open(JSON_FILE,'r') as f:\n",
    "    previous_results = json.load(f)\n",
    "    \n",
    "## set offset based on previous results\n",
    "n_results = len(previous_results)\n",
    "print(f'- {n_results} previous results found.')"
   ]
  },
  {
   "cell_type": "code",
   "execution_count": 8,
   "id": "2dd93d63-bd5f-416b-ab92-66ad9251abd4",
   "metadata": {},
   "outputs": [
    {
     "data": {
      "text/plain": [
       "dict_keys(['businesses', 'total', 'region'])"
      ]
     },
     "execution_count": 8,
     "metadata": {},
     "output_type": "execute_result"
    }
   ],
   "source": [
    "# use our yelp_api variable's search_query method to perform our API call\n",
    "results = yelp_api.search_query(location=LOCATION,\n",
    "                                term=TERM,\n",
    "                               offset=n_results)\n",
    "results.keys()"
   ]
  },
  {
   "cell_type": "code",
   "execution_count": 11,
   "id": "417e90cc-81fa-4f46-b194-8439ec3cf323",
   "metadata": {},
   "outputs": [
    {
     "data": {
      "text/plain": [
       "20"
      ]
     },
     "execution_count": 11,
     "metadata": {},
     "output_type": "execute_result"
    }
   ],
   "source": [
    "## How many did we get the details for?\n",
    "results_per_page = len(results['businesses'])\n",
    "results_per_page"
   ]
  },
  {
   "cell_type": "code",
   "execution_count": 12,
   "id": "f3235b09-9cd0-4e2f-8d6f-a97689aa69b5",
   "metadata": {},
   "outputs": [
    {
     "data": {
      "text/plain": [
       "65"
      ]
     },
     "execution_count": 12,
     "metadata": {},
     "output_type": "execute_result"
    }
   ],
   "source": [
    "# Import additional packages for controlling our loop\n",
    "import time, math\n",
    "# Use math.ceil to round up for the total number of pages of results.\n",
    "n_pages = math.ceil((results['total']-n_results)/ results_per_page)\n",
    "n_pages"
   ]
  },
  {
   "cell_type": "code",
   "execution_count": 13,
   "id": "82277dad-9ace-44f5-9433-d0d6bc151194",
   "metadata": {},
   "outputs": [
    {
     "data": {
      "text/plain": [
       "False"
      ]
     },
     "execution_count": 13,
     "metadata": {},
     "output_type": "execute_result"
    }
   ],
   "source": [
    "os.remove(JSON_FILE)\n",
    "os.path.isfile(JSON_FILE)"
   ]
  },
  {
   "cell_type": "code",
   "execution_count": 14,
   "id": "4679df33-a3d6-496c-b447-44e07db5d19e",
   "metadata": {},
   "outputs": [],
   "source": [
    "def create_json_file(JSON_FILE,  delete_if_exists=False):\n",
    "    \n",
    "    ## Check if JSON_FILE exists\n",
    "    file_exists = os.path.isfile(JSON_FILE)\n",
    "    \n",
    "    ## If it DOES exist:\n",
    "    if file_exists == True:\n",
    "        \n",
    "        ## Check if user wants to delete if exists\n",
    "        if delete_if_exists==True:\n",
    "            \n",
    "            print(f\"[!] {JSON_FILE} already exists. Deleting previous file...\")\n",
    "            ## delete file and confirm it no longer exits.\n",
    "            os.remove(JSON_FILE)\n",
    "            ## Recursive call to function after old file deleted\n",
    "            create_json_file(JSON_FILE,delete_if_exists=False)\n",
    "        else:\n",
    "            print(f\"[i] {JSON_FILE} already exists.\")            \n",
    "            \n",
    "            \n",
    "    ## If it does NOT exist:\n",
    "    else:\n",
    "        \n",
    "        ## INFORM USER AND SAVE EMPTY LIST\n",
    "        print(f\"[i] {JSON_FILE} not found. Saving empty list to new file.\")\n",
    "        \n",
    "        ## CREATE ANY NEEDED FOLDERS\n",
    "        # Get the Folder Name only\n",
    "        folder = os.path.dirname(JSON_FILE)\n",
    "        \n",
    "        ## If JSON_FILE included a folder:\n",
    "        if len(folder)>0:\n",
    "            # create the folder\n",
    "            os.makedirs(folder,exist_ok=True)\n",
    "        ## Save empty list to start the json file\n",
    "        with open(JSON_FILE,'w') as f:\n",
    "            json.dump([],f)"
   ]
  },
  {
   "cell_type": "code",
   "execution_count": 15,
   "id": "5606ee4e-f753-46ec-887a-8ac609dfa2af",
   "metadata": {},
   "outputs": [
    {
     "name": "stdout",
     "output_type": "stream",
     "text": [
      "[i] Data/results_in_progress_SAN_ANTONIO_pizza.json not found. Saving empty list to new file.\n",
      "- 0 previous results found.\n"
     ]
    },
    {
     "data": {
      "text/plain": [
       "65"
      ]
     },
     "execution_count": 15,
     "metadata": {},
     "output_type": "execute_result"
    }
   ],
   "source": [
    "## Create a new empty json file (exist the previous if it exists)\n",
    "create_json_file(JSON_FILE, delete_if_exists=True)\n",
    "## Load previous results and use len of results for offset\n",
    "with open(JSON_FILE,'r') as f:\n",
    "    previous_results = json.load(f)\n",
    "    \n",
    "## set offset based on previous results\n",
    "n_results = len(previous_results)\n",
    "print(f'- {n_results} previous results found.')\n",
    "# use our yelp_api variable's search_query method to perform our API call\n",
    "results = yelp_api.search_query(location=LOCATION,\n",
    "                                term=TERM,\n",
    "                               offset=n_results)\n",
    "## How many results total?\n",
    "total_results = results['total']\n",
    "## How many did we get the details for?\n",
    "results_per_page = len(results['businesses'])\n",
    "# Use math.ceil to round up for the total number of pages of results.\n",
    "n_pages = math.ceil((results['total']-n_results)/ results_per_page)\n",
    "n_pages"
   ]
  },
  {
   "cell_type": "code",
   "execution_count": 16,
   "id": "3cf9e4d2-bfed-470e-a2e4-bd48982820f0",
   "metadata": {},
   "outputs": [
    {
     "data": {
      "application/vnd.jupyter.widget-view+json": {
       "model_id": "b66786ae6e4d4be88074e2d04fe65f57",
       "version_major": 2,
       "version_minor": 0
      },
      "text/plain": [
       "  0%|          | 0/65 [00:00<?, ?it/s]"
      ]
     },
     "metadata": {},
     "output_type": "display_data"
    },
    {
     "name": "stdout",
     "output_type": "stream",
     "text": [
      "Exceeded 1000 api calls. Stopping loop.\n"
     ]
    }
   ],
   "source": [
    "for i in tqdm_notebook( range(1,n_pages+1)):\n",
    "    \n",
    "    ## Read in results in progress file and check the length\n",
    "    with open(JSON_FILE, 'r') as f:\n",
    "        previous_results = json.load(f)\n",
    "    ## save number of results for to use as offset\n",
    "    n_results = len(previous_results)\n",
    "    \n",
    "    if (n_results + results_per_page) > 1000:\n",
    "        print('Exceeded 1000 api calls. Stopping loop.')\n",
    "        break\n",
    "    \n",
    "    ## use n_results as the OFFSET \n",
    "    results = yelp_api.search_query(location=LOCATION,\n",
    "                                    term=TERM, \n",
    "                                    offset=n_results)\n",
    "    \n",
    "    \n",
    "    \n",
    "    ## append new results and save to file\n",
    "    previous_results.extend(results['businesses'])\n",
    "    \n",
    "    # display(previous_results)\n",
    "    with open(JSON_FILE,'w') as f:\n",
    "        json.dump(previous_results,f)\n",
    "    \n",
    "    time.sleep(.2)"
   ]
  },
  {
   "cell_type": "code",
   "execution_count": 17,
   "id": "fddbca32-aed6-48c3-bac8-46138057933d",
   "metadata": {},
   "outputs": [
    {
     "data": {
      "text/html": [
       "<div>\n",
       "<style scoped>\n",
       "    .dataframe tbody tr th:only-of-type {\n",
       "        vertical-align: middle;\n",
       "    }\n",
       "\n",
       "    .dataframe tbody tr th {\n",
       "        vertical-align: top;\n",
       "    }\n",
       "\n",
       "    .dataframe thead th {\n",
       "        text-align: right;\n",
       "    }\n",
       "</style>\n",
       "<table border=\"1\" class=\"dataframe\">\n",
       "  <thead>\n",
       "    <tr style=\"text-align: right;\">\n",
       "      <th></th>\n",
       "      <th>id</th>\n",
       "      <th>alias</th>\n",
       "      <th>name</th>\n",
       "      <th>image_url</th>\n",
       "      <th>is_closed</th>\n",
       "      <th>url</th>\n",
       "      <th>review_count</th>\n",
       "      <th>categories</th>\n",
       "      <th>rating</th>\n",
       "      <th>coordinates</th>\n",
       "      <th>transactions</th>\n",
       "      <th>price</th>\n",
       "      <th>location</th>\n",
       "      <th>phone</th>\n",
       "      <th>display_phone</th>\n",
       "      <th>distance</th>\n",
       "    </tr>\n",
       "  </thead>\n",
       "  <tbody>\n",
       "    <tr>\n",
       "      <th>0</th>\n",
       "      <td>mE8oeT-264q0MRKhVo7j8A</td>\n",
       "      <td>dough-pizzeria-napoletana-san-antonio</td>\n",
       "      <td>Dough Pizzeria Napoletana</td>\n",
       "      <td>https://s3-media2.fl.yelpcdn.com/bphoto/nMZExv...</td>\n",
       "      <td>False</td>\n",
       "      <td>https://www.yelp.com/biz/dough-pizzeria-napole...</td>\n",
       "      <td>1809</td>\n",
       "      <td>[{'alias': 'pizza', 'title': 'Pizza'}, {'alias...</td>\n",
       "      <td>4.0</td>\n",
       "      <td>{'latitude': 29.5195143, 'longitude': -98.5069...</td>\n",
       "      <td>[delivery, pickup]</td>\n",
       "      <td>$$</td>\n",
       "      <td>{'address1': '6989 Blanco Rd', 'address2': '',...</td>\n",
       "      <td>+12109796565</td>\n",
       "      <td>(210) 979-6565</td>\n",
       "      <td>2850.666555</td>\n",
       "    </tr>\n",
       "    <tr>\n",
       "      <th>1</th>\n",
       "      <td>BgoLUf0OJSdkaTDeVwz2MA</td>\n",
       "      <td>wild-barley-kitchen-and-brewery-san-antonio</td>\n",
       "      <td>Wild Barley Kitchen &amp; Brewery</td>\n",
       "      <td>https://s3-media1.fl.yelpcdn.com/bphoto/eZGu45...</td>\n",
       "      <td>False</td>\n",
       "      <td>https://www.yelp.com/biz/wild-barley-kitchen-a...</td>\n",
       "      <td>106</td>\n",
       "      <td>[{'alias': 'brewpubs', 'title': 'Brewpubs'}, {...</td>\n",
       "      <td>4.5</td>\n",
       "      <td>{'latitude': 29.51537923739746, 'longitude': -...</td>\n",
       "      <td>[]</td>\n",
       "      <td>$$</td>\n",
       "      <td>{'address1': '8403 Broadway', 'address2': None...</td>\n",
       "      <td>+12104559982</td>\n",
       "      <td>(210) 455-9982</td>\n",
       "      <td>5249.162072</td>\n",
       "    </tr>\n",
       "    <tr>\n",
       "      <th>2</th>\n",
       "      <td>OeLJy69rYAb0Rq0feRl2yw</td>\n",
       "      <td>pizza-break-san-antonio</td>\n",
       "      <td>Pizza Break</td>\n",
       "      <td>https://s3-media2.fl.yelpcdn.com/bphoto/HMabaZ...</td>\n",
       "      <td>False</td>\n",
       "      <td>https://www.yelp.com/biz/pizza-break-san-anton...</td>\n",
       "      <td>17</td>\n",
       "      <td>[{'alias': 'tradamerican', 'title': 'American ...</td>\n",
       "      <td>4.5</td>\n",
       "      <td>{'latitude': 29.5516345, 'longitude': -98.5117...</td>\n",
       "      <td>[delivery, pickup]</td>\n",
       "      <td>NaN</td>\n",
       "      <td>{'address1': '12072 Blanco Rd', 'address2': 'S...</td>\n",
       "      <td>+12107018086</td>\n",
       "      <td>(210) 701-8086</td>\n",
       "      <td>6365.084721</td>\n",
       "    </tr>\n",
       "    <tr>\n",
       "      <th>3</th>\n",
       "      <td>AX2NYuKt1fx0Q97Muf4TUw</td>\n",
       "      <td>mattengas-pizzeria-callaghan-san-antonio-2</td>\n",
       "      <td>Mattenga's Pizzeria - Callaghan</td>\n",
       "      <td>https://s3-media1.fl.yelpcdn.com/bphoto/Pw6jKa...</td>\n",
       "      <td>False</td>\n",
       "      <td>https://www.yelp.com/biz/mattengas-pizzeria-ca...</td>\n",
       "      <td>36</td>\n",
       "      <td>[{'alias': 'pizza', 'title': 'Pizza'}, {'alias...</td>\n",
       "      <td>4.5</td>\n",
       "      <td>{'latitude': 29.50992, 'longitude': -98.55533}</td>\n",
       "      <td>[]</td>\n",
       "      <td>NaN</td>\n",
       "      <td>{'address1': '7863 Callaghan Rd', 'address2': ...</td>\n",
       "      <td>+12104740065</td>\n",
       "      <td>(210) 474-0065</td>\n",
       "      <td>4253.353417</td>\n",
       "    </tr>\n",
       "    <tr>\n",
       "      <th>4</th>\n",
       "      <td>Ht62-ZGuv8gzRJ_pO-kV_w</td>\n",
       "      <td>via-313-pizza-gateway-san-antonio</td>\n",
       "      <td>Via 313 Pizza - Gateway</td>\n",
       "      <td>https://s3-media3.fl.yelpcdn.com/bphoto/qkLOUa...</td>\n",
       "      <td>False</td>\n",
       "      <td>https://www.yelp.com/biz/via-313-pizza-gateway...</td>\n",
       "      <td>216</td>\n",
       "      <td>[{'alias': 'pizza', 'title': 'Pizza'}]</td>\n",
       "      <td>4.0</td>\n",
       "      <td>{'latitude': 29.520115, 'longitude': -98.5745}</td>\n",
       "      <td>[]</td>\n",
       "      <td>$$</td>\n",
       "      <td>{'address1': '8435 Wurzbach Rd', 'address2': '...</td>\n",
       "      <td>+12109851313</td>\n",
       "      <td>(210) 985-1313</td>\n",
       "      <td>6467.581173</td>\n",
       "    </tr>\n",
       "  </tbody>\n",
       "</table>\n",
       "</div>"
      ],
      "text/plain": [
       "                       id                                        alias  \\\n",
       "0  mE8oeT-264q0MRKhVo7j8A        dough-pizzeria-napoletana-san-antonio   \n",
       "1  BgoLUf0OJSdkaTDeVwz2MA  wild-barley-kitchen-and-brewery-san-antonio   \n",
       "2  OeLJy69rYAb0Rq0feRl2yw                      pizza-break-san-antonio   \n",
       "3  AX2NYuKt1fx0Q97Muf4TUw   mattengas-pizzeria-callaghan-san-antonio-2   \n",
       "4  Ht62-ZGuv8gzRJ_pO-kV_w            via-313-pizza-gateway-san-antonio   \n",
       "\n",
       "                              name  \\\n",
       "0        Dough Pizzeria Napoletana   \n",
       "1    Wild Barley Kitchen & Brewery   \n",
       "2                      Pizza Break   \n",
       "3  Mattenga's Pizzeria - Callaghan   \n",
       "4          Via 313 Pizza - Gateway   \n",
       "\n",
       "                                           image_url  is_closed  \\\n",
       "0  https://s3-media2.fl.yelpcdn.com/bphoto/nMZExv...      False   \n",
       "1  https://s3-media1.fl.yelpcdn.com/bphoto/eZGu45...      False   \n",
       "2  https://s3-media2.fl.yelpcdn.com/bphoto/HMabaZ...      False   \n",
       "3  https://s3-media1.fl.yelpcdn.com/bphoto/Pw6jKa...      False   \n",
       "4  https://s3-media3.fl.yelpcdn.com/bphoto/qkLOUa...      False   \n",
       "\n",
       "                                                 url  review_count  \\\n",
       "0  https://www.yelp.com/biz/dough-pizzeria-napole...          1809   \n",
       "1  https://www.yelp.com/biz/wild-barley-kitchen-a...           106   \n",
       "2  https://www.yelp.com/biz/pizza-break-san-anton...            17   \n",
       "3  https://www.yelp.com/biz/mattengas-pizzeria-ca...            36   \n",
       "4  https://www.yelp.com/biz/via-313-pizza-gateway...           216   \n",
       "\n",
       "                                          categories  rating  \\\n",
       "0  [{'alias': 'pizza', 'title': 'Pizza'}, {'alias...     4.0   \n",
       "1  [{'alias': 'brewpubs', 'title': 'Brewpubs'}, {...     4.5   \n",
       "2  [{'alias': 'tradamerican', 'title': 'American ...     4.5   \n",
       "3  [{'alias': 'pizza', 'title': 'Pizza'}, {'alias...     4.5   \n",
       "4             [{'alias': 'pizza', 'title': 'Pizza'}]     4.0   \n",
       "\n",
       "                                         coordinates        transactions  \\\n",
       "0  {'latitude': 29.5195143, 'longitude': -98.5069...  [delivery, pickup]   \n",
       "1  {'latitude': 29.51537923739746, 'longitude': -...                  []   \n",
       "2  {'latitude': 29.5516345, 'longitude': -98.5117...  [delivery, pickup]   \n",
       "3     {'latitude': 29.50992, 'longitude': -98.55533}                  []   \n",
       "4     {'latitude': 29.520115, 'longitude': -98.5745}                  []   \n",
       "\n",
       "  price                                           location         phone  \\\n",
       "0    $$  {'address1': '6989 Blanco Rd', 'address2': '',...  +12109796565   \n",
       "1    $$  {'address1': '8403 Broadway', 'address2': None...  +12104559982   \n",
       "2   NaN  {'address1': '12072 Blanco Rd', 'address2': 'S...  +12107018086   \n",
       "3   NaN  {'address1': '7863 Callaghan Rd', 'address2': ...  +12104740065   \n",
       "4    $$  {'address1': '8435 Wurzbach Rd', 'address2': '...  +12109851313   \n",
       "\n",
       "    display_phone     distance  \n",
       "0  (210) 979-6565  2850.666555  \n",
       "1  (210) 455-9982  5249.162072  \n",
       "2  (210) 701-8086  6365.084721  \n",
       "3  (210) 474-0065  4253.353417  \n",
       "4  (210) 985-1313  6467.581173  "
      ]
     },
     "metadata": {},
     "output_type": "display_data"
    },
    {
     "data": {
      "text/html": [
       "<div>\n",
       "<style scoped>\n",
       "    .dataframe tbody tr th:only-of-type {\n",
       "        vertical-align: middle;\n",
       "    }\n",
       "\n",
       "    .dataframe tbody tr th {\n",
       "        vertical-align: top;\n",
       "    }\n",
       "\n",
       "    .dataframe thead th {\n",
       "        text-align: right;\n",
       "    }\n",
       "</style>\n",
       "<table border=\"1\" class=\"dataframe\">\n",
       "  <thead>\n",
       "    <tr style=\"text-align: right;\">\n",
       "      <th></th>\n",
       "      <th>id</th>\n",
       "      <th>alias</th>\n",
       "      <th>name</th>\n",
       "      <th>image_url</th>\n",
       "      <th>is_closed</th>\n",
       "      <th>url</th>\n",
       "      <th>review_count</th>\n",
       "      <th>categories</th>\n",
       "      <th>rating</th>\n",
       "      <th>coordinates</th>\n",
       "      <th>transactions</th>\n",
       "      <th>price</th>\n",
       "      <th>location</th>\n",
       "      <th>phone</th>\n",
       "      <th>display_phone</th>\n",
       "      <th>distance</th>\n",
       "    </tr>\n",
       "  </thead>\n",
       "  <tbody>\n",
       "    <tr>\n",
       "      <th>995</th>\n",
       "      <td>j4Fbase3B_pSSGfvsUcRtA</td>\n",
       "      <td>panera-bread-san-antonio-14</td>\n",
       "      <td>Panera Bread</td>\n",
       "      <td>https://s3-media2.fl.yelpcdn.com/bphoto/3WVE0S...</td>\n",
       "      <td>False</td>\n",
       "      <td>https://www.yelp.com/biz/panera-bread-san-anto...</td>\n",
       "      <td>38</td>\n",
       "      <td>[{'alias': 'salad', 'title': 'Salad'}, {'alias...</td>\n",
       "      <td>2.0</td>\n",
       "      <td>{'latitude': 29.5567173376684, 'longitude': -9...</td>\n",
       "      <td>[pickup, delivery]</td>\n",
       "      <td>NaN</td>\n",
       "      <td>{'address1': '9106 N Loop 1604 W', 'address2':...</td>\n",
       "      <td>+12107755865</td>\n",
       "      <td>(210) 775-5865</td>\n",
       "      <td>15863.575085</td>\n",
       "    </tr>\n",
       "    <tr>\n",
       "      <th>996</th>\n",
       "      <td>NGNgluVc-_BjoJ3cx8z8og</td>\n",
       "      <td>7-eleven-san-antonio-14</td>\n",
       "      <td>7-Eleven</td>\n",
       "      <td>https://s3-media3.fl.yelpcdn.com/bphoto/8BSgN3...</td>\n",
       "      <td>False</td>\n",
       "      <td>https://www.yelp.com/biz/7-eleven-san-antonio-...</td>\n",
       "      <td>3</td>\n",
       "      <td>[{'alias': 'servicestations', 'title': 'Gas St...</td>\n",
       "      <td>4.5</td>\n",
       "      <td>{'latitude': 29.5528233, 'longitude': -98.3562...</td>\n",
       "      <td>[pickup, delivery]</td>\n",
       "      <td>$</td>\n",
       "      <td>{'address1': '12351 N Interstate 35', 'address...</td>\n",
       "      <td>+12105902532</td>\n",
       "      <td>(210) 590-2532</td>\n",
       "      <td>16624.281932</td>\n",
       "    </tr>\n",
       "    <tr>\n",
       "      <th>997</th>\n",
       "      <td>42rPSfx8X7aIZvhLQbOabQ</td>\n",
       "      <td>olive-garden-italian-restaurant-live-oak-3</td>\n",
       "      <td>Olive Garden Italian Restaurant</td>\n",
       "      <td>https://s3-media1.fl.yelpcdn.com/bphoto/RndQYZ...</td>\n",
       "      <td>False</td>\n",
       "      <td>https://www.yelp.com/biz/olive-garden-italian-...</td>\n",
       "      <td>78</td>\n",
       "      <td>[{'alias': 'salad', 'title': 'Salad'}, {'alias...</td>\n",
       "      <td>3.5</td>\n",
       "      <td>{'latitude': 29.5635916, 'longitude': -98.3408...</td>\n",
       "      <td>[]</td>\n",
       "      <td>$$</td>\n",
       "      <td>{'address1': '2150 Ikea-rbfcu Pkwy', 'address2...</td>\n",
       "      <td>+12106460887</td>\n",
       "      <td>(210) 646-0887</td>\n",
       "      <td>18471.175298</td>\n",
       "    </tr>\n",
       "    <tr>\n",
       "      <th>998</th>\n",
       "      <td>A6uDJmMR9jXcC-CPSdV31w</td>\n",
       "      <td>7-eleven-helotes</td>\n",
       "      <td>7-Eleven</td>\n",
       "      <td>https://s3-media3.fl.yelpcdn.com/bphoto/k8pziF...</td>\n",
       "      <td>False</td>\n",
       "      <td>https://www.yelp.com/biz/7-eleven-helotes?adju...</td>\n",
       "      <td>4</td>\n",
       "      <td>[{'alias': 'convenience', 'title': 'Convenienc...</td>\n",
       "      <td>1.0</td>\n",
       "      <td>{'latitude': 29.5552970758725, 'longitude': -9...</td>\n",
       "      <td>[pickup, delivery]</td>\n",
       "      <td>$</td>\n",
       "      <td>{'address1': '11808 Bandera Rd', 'address2': '...</td>\n",
       "      <td>+12103729014</td>\n",
       "      <td>(210) 372-9014</td>\n",
       "      <td>16305.736053</td>\n",
       "    </tr>\n",
       "    <tr>\n",
       "      <th>999</th>\n",
       "      <td>7rqQuxhZcHfusenxQ2WisA</td>\n",
       "      <td>jaimes-place-san-antonio</td>\n",
       "      <td>Jaime's Place</td>\n",
       "      <td>https://s3-media2.fl.yelpcdn.com/bphoto/uItef5...</td>\n",
       "      <td>False</td>\n",
       "      <td>https://www.yelp.com/biz/jaimes-place-san-anto...</td>\n",
       "      <td>21</td>\n",
       "      <td>[{'alias': 'bars', 'title': 'Bars'}, {'alias':...</td>\n",
       "      <td>4.5</td>\n",
       "      <td>{'latitude': 29.42645, 'longitude': -98.51168}</td>\n",
       "      <td>[]</td>\n",
       "      <td>$$</td>\n",
       "      <td>{'address1': '1514 West Commerce St', 'address...</td>\n",
       "      <td>+12105649083</td>\n",
       "      <td>(210) 564-9083</td>\n",
       "      <td>7578.028706</td>\n",
       "    </tr>\n",
       "  </tbody>\n",
       "</table>\n",
       "</div>"
      ],
      "text/plain": [
       "                         id                                       alias  \\\n",
       "995  j4Fbase3B_pSSGfvsUcRtA                 panera-bread-san-antonio-14   \n",
       "996  NGNgluVc-_BjoJ3cx8z8og                     7-eleven-san-antonio-14   \n",
       "997  42rPSfx8X7aIZvhLQbOabQ  olive-garden-italian-restaurant-live-oak-3   \n",
       "998  A6uDJmMR9jXcC-CPSdV31w                            7-eleven-helotes   \n",
       "999  7rqQuxhZcHfusenxQ2WisA                    jaimes-place-san-antonio   \n",
       "\n",
       "                                name  \\\n",
       "995                     Panera Bread   \n",
       "996                         7-Eleven   \n",
       "997  Olive Garden Italian Restaurant   \n",
       "998                         7-Eleven   \n",
       "999                    Jaime's Place   \n",
       "\n",
       "                                             image_url  is_closed  \\\n",
       "995  https://s3-media2.fl.yelpcdn.com/bphoto/3WVE0S...      False   \n",
       "996  https://s3-media3.fl.yelpcdn.com/bphoto/8BSgN3...      False   \n",
       "997  https://s3-media1.fl.yelpcdn.com/bphoto/RndQYZ...      False   \n",
       "998  https://s3-media3.fl.yelpcdn.com/bphoto/k8pziF...      False   \n",
       "999  https://s3-media2.fl.yelpcdn.com/bphoto/uItef5...      False   \n",
       "\n",
       "                                                   url  review_count  \\\n",
       "995  https://www.yelp.com/biz/panera-bread-san-anto...            38   \n",
       "996  https://www.yelp.com/biz/7-eleven-san-antonio-...             3   \n",
       "997  https://www.yelp.com/biz/olive-garden-italian-...            78   \n",
       "998  https://www.yelp.com/biz/7-eleven-helotes?adju...             4   \n",
       "999  https://www.yelp.com/biz/jaimes-place-san-anto...            21   \n",
       "\n",
       "                                            categories  rating  \\\n",
       "995  [{'alias': 'salad', 'title': 'Salad'}, {'alias...     2.0   \n",
       "996  [{'alias': 'servicestations', 'title': 'Gas St...     4.5   \n",
       "997  [{'alias': 'salad', 'title': 'Salad'}, {'alias...     3.5   \n",
       "998  [{'alias': 'convenience', 'title': 'Convenienc...     1.0   \n",
       "999  [{'alias': 'bars', 'title': 'Bars'}, {'alias':...     4.5   \n",
       "\n",
       "                                           coordinates        transactions  \\\n",
       "995  {'latitude': 29.5567173376684, 'longitude': -9...  [pickup, delivery]   \n",
       "996  {'latitude': 29.5528233, 'longitude': -98.3562...  [pickup, delivery]   \n",
       "997  {'latitude': 29.5635916, 'longitude': -98.3408...                  []   \n",
       "998  {'latitude': 29.5552970758725, 'longitude': -9...  [pickup, delivery]   \n",
       "999     {'latitude': 29.42645, 'longitude': -98.51168}                  []   \n",
       "\n",
       "    price                                           location         phone  \\\n",
       "995   NaN  {'address1': '9106 N Loop 1604 W', 'address2':...  +12107755865   \n",
       "996     $  {'address1': '12351 N Interstate 35', 'address...  +12105902532   \n",
       "997    $$  {'address1': '2150 Ikea-rbfcu Pkwy', 'address2...  +12106460887   \n",
       "998     $  {'address1': '11808 Bandera Rd', 'address2': '...  +12103729014   \n",
       "999    $$  {'address1': '1514 West Commerce St', 'address...  +12105649083   \n",
       "\n",
       "      display_phone      distance  \n",
       "995  (210) 775-5865  15863.575085  \n",
       "996  (210) 590-2532  16624.281932  \n",
       "997  (210) 646-0887  18471.175298  \n",
       "998  (210) 372-9014  16305.736053  \n",
       "999  (210) 564-9083   7578.028706  "
      ]
     },
     "metadata": {},
     "output_type": "display_data"
    }
   ],
   "source": [
    "# load final results\n",
    "final_df = pd.read_json(JSON_FILE)\n",
    "display(final_df.head(), final_df.tail())"
   ]
  },
  {
   "cell_type": "code",
   "execution_count": 18,
   "id": "baede953-5138-4bda-acc9-5f56e0972fb2",
   "metadata": {},
   "outputs": [
    {
     "data": {
      "text/plain": [
       "0"
      ]
     },
     "execution_count": 18,
     "metadata": {},
     "output_type": "execute_result"
    }
   ],
   "source": [
    "# check for duplicates\n",
    "final_df.duplicated(subset='id').sum()"
   ]
  },
  {
   "cell_type": "code",
   "execution_count": 19,
   "id": "cb1e8d80-65c5-4d5b-b06a-8116951cd4b4",
   "metadata": {},
   "outputs": [],
   "source": [
    "# save the final results to a compressed csv\n",
    "final_df.to_csv('Data/final_results_NY_pizza.csv.gz', compression='gzip',index=False)"
   ]
  }
 ],
 "metadata": {
  "kernelspec": {
   "display_name": "Python 3 (ipykernel)",
   "language": "python",
   "name": "python3"
  },
  "language_info": {
   "codemirror_mode": {
    "name": "ipython",
    "version": 3
   },
   "file_extension": ".py",
   "mimetype": "text/x-python",
   "name": "python",
   "nbconvert_exporter": "python",
   "pygments_lexer": "ipython3",
   "version": "3.10.10"
  },
  "widgets": {
   "application/vnd.jupyter.widget-state+json": {
    "state": {
     "0f33ad0cd8bb4c0d90166d4398c1c9f6": {
      "model_module": "@jupyter-widgets/controls",
      "model_module_version": "2.0.0",
      "model_name": "HTMLModel",
      "state": {
       "layout": "IPY_MODEL_f2dc9495c9884693a54591a43b7b2ac8",
       "style": "IPY_MODEL_3aefe5d5060f4e5da289705f76faaa6b",
       "value": " 77%"
      }
     },
     "3aefe5d5060f4e5da289705f76faaa6b": {
      "model_module": "@jupyter-widgets/controls",
      "model_module_version": "2.0.0",
      "model_name": "HTMLStyleModel",
      "state": {
       "description_width": "",
       "font_size": null,
       "text_color": null
      }
     },
     "989117f8bf26432daff718e83848c59f": {
      "model_module": "@jupyter-widgets/base",
      "model_module_version": "2.0.0",
      "model_name": "LayoutModel",
      "state": {}
     },
     "b1a50167f7af4fb08717da11b41b3e10": {
      "model_module": "@jupyter-widgets/controls",
      "model_module_version": "2.0.0",
      "model_name": "ProgressStyleModel",
      "state": {
       "description_width": ""
      }
     },
     "b66786ae6e4d4be88074e2d04fe65f57": {
      "model_module": "@jupyter-widgets/controls",
      "model_module_version": "2.0.0",
      "model_name": "HBoxModel",
      "state": {
       "children": [
        "IPY_MODEL_0f33ad0cd8bb4c0d90166d4398c1c9f6",
        "IPY_MODEL_b903a887f7ca44ab8b45d88a168ee2d8",
        "IPY_MODEL_cc9c8d2c8be04e2e9f68595cfe44c3f1"
       ],
       "layout": "IPY_MODEL_989117f8bf26432daff718e83848c59f"
      }
     },
     "b903a887f7ca44ab8b45d88a168ee2d8": {
      "model_module": "@jupyter-widgets/controls",
      "model_module_version": "2.0.0",
      "model_name": "FloatProgressModel",
      "state": {
       "bar_style": "danger",
       "layout": "IPY_MODEL_ec1c6115b19b4ddc99b29f67ab761960",
       "max": 65,
       "style": "IPY_MODEL_b1a50167f7af4fb08717da11b41b3e10",
       "value": 50
      }
     },
     "cc9c8d2c8be04e2e9f68595cfe44c3f1": {
      "model_module": "@jupyter-widgets/controls",
      "model_module_version": "2.0.0",
      "model_name": "HTMLModel",
      "state": {
       "layout": "IPY_MODEL_d092d7a3f21d4b20bebe0c4c95f6c9f5",
       "style": "IPY_MODEL_e20a75833cb94ccaa3aa27b0143d8f25",
       "value": " 50/65 [01:06&lt;00:27,  1.80s/it]"
      }
     },
     "d092d7a3f21d4b20bebe0c4c95f6c9f5": {
      "model_module": "@jupyter-widgets/base",
      "model_module_version": "2.0.0",
      "model_name": "LayoutModel",
      "state": {}
     },
     "e20a75833cb94ccaa3aa27b0143d8f25": {
      "model_module": "@jupyter-widgets/controls",
      "model_module_version": "2.0.0",
      "model_name": "HTMLStyleModel",
      "state": {
       "description_width": "",
       "font_size": null,
       "text_color": null
      }
     },
     "ec1c6115b19b4ddc99b29f67ab761960": {
      "model_module": "@jupyter-widgets/base",
      "model_module_version": "2.0.0",
      "model_name": "LayoutModel",
      "state": {}
     },
     "f2dc9495c9884693a54591a43b7b2ac8": {
      "model_module": "@jupyter-widgets/base",
      "model_module_version": "2.0.0",
      "model_name": "LayoutModel",
      "state": {}
     }
    },
    "version_major": 2,
    "version_minor": 0
   }
  }
 },
 "nbformat": 4,
 "nbformat_minor": 5
}
